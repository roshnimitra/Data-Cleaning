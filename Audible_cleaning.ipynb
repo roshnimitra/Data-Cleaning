{
 "cells": [
  {
   "cell_type": "code",
   "execution_count": 83,
   "id": "780168f7-fd14-4207-a5e8-4d70ee9a7c1c",
   "metadata": {},
   "outputs": [],
   "source": [
    "from pyspark.sql import SparkSession \n",
    "\n",
    "spark = SparkSession.builder.getOrCreate()"
   ]
  },
  {
   "cell_type": "code",
   "execution_count": 84,
   "id": "096a00ac-e676-4c1e-9e27-ef2cf0be712c",
   "metadata": {},
   "outputs": [
    {
     "data": {
      "text/html": [
       "\n",
       "            <div>\n",
       "                <p><b>SparkSession - in-memory</b></p>\n",
       "                \n",
       "        <div>\n",
       "            <p><b>SparkContext</b></p>\n",
       "\n",
       "            <p><a href=\"http://10.255.255.254:4040\">Spark UI</a></p>\n",
       "\n",
       "            <dl>\n",
       "              <dt>Version</dt>\n",
       "                <dd><code>v3.5.4</code></dd>\n",
       "              <dt>Master</dt>\n",
       "                <dd><code>local[*]</code></dd>\n",
       "              <dt>AppName</dt>\n",
       "                <dd><code>pyspark-shell</code></dd>\n",
       "            </dl>\n",
       "        </div>\n",
       "        \n",
       "            </div>\n",
       "        "
      ],
      "text/plain": [
       "<pyspark.sql.session.SparkSession at 0x7f29d40c6570>"
      ]
     },
     "execution_count": 84,
     "metadata": {},
     "output_type": "execute_result"
    }
   ],
   "source": [
    "spark"
   ]
  },
  {
   "cell_type": "markdown",
   "id": "1cea4401-300e-4420-9a07-ae786a6181bf",
   "metadata": {},
   "source": [
    "# Data Reading "
   ]
  },
  {
   "cell_type": "code",
   "execution_count": 85,
   "id": "be7b2a32-03f4-450b-a448-5f1c42e57038",
   "metadata": {},
   "outputs": [],
   "source": [
    "df = spark.read.csv('audible_uncleaned.csv', header = True, inferSchema = True)"
   ]
  },
  {
   "cell_type": "code",
   "execution_count": 86,
   "id": "8b5d3d17-b94d-483d-bcde-2dd1edc4abc3",
   "metadata": {},
   "outputs": [
    {
     "name": "stdout",
     "output_type": "stream",
     "text": [
      "+--------------------+--------------------+--------------------+------------------+-----------+--------+--------------------+------+\n",
      "|                name|              author|            narrator|              time|releasedate|language|               stars| price|\n",
      "+--------------------+--------------------+--------------------+------------------+-----------+--------+--------------------+------+\n",
      "|Geronimo Stilton ...|Writtenby:Geronim...|Narratedby:BillLo...| 2 hrs and 20 mins|   04-08-08| English|5 out of 5 stars3...|468.00|\n",
      "|    The Burning Maze|Writtenby:RickRio...|Narratedby:Robbie...| 13 hrs and 8 mins|   01-05-18| English|4.5 out of 5 star...|820.00|\n",
      "|        The Deep End|Writtenby:JeffKinney|Narratedby:DanRus...|  2 hrs and 3 mins|   06-11-20| English|4.5 out of 5 star...|410.00|\n",
      "|Daughter of the Deep|Writtenby:RickRio...|Narratedby:Soneel...|11 hrs and 16 mins|   05-10-21| English|4.5 out of 5 star...|615.00|\n",
      "|The Lightning Thi...|Writtenby:RickRio...|Narratedby:JesseB...|            10 hrs|   13-01-10| English|4.5 out of 5 star...|820.00|\n",
      "+--------------------+--------------------+--------------------+------------------+-----------+--------+--------------------+------+\n",
      "only showing top 5 rows\n",
      "\n"
     ]
    }
   ],
   "source": [
    "df.show(5)"
   ]
  },
  {
   "cell_type": "code",
   "execution_count": 87,
   "id": "04911f9f-57d1-44bc-bc99-d1cb9222cc3f",
   "metadata": {},
   "outputs": [
    {
     "name": "stderr",
     "output_type": "stream",
     "text": [
      "[Stage 98:>                                                         (0 + 3) / 3]"
     ]
    },
    {
     "name": "stdout",
     "output_type": "stream",
     "text": [
      "+-------+-------------------------------------+--------------------+--------------------+--------------------+--------------------+--------------------+--------+------------------+\n",
      "|summary|                                 name|              author|            narrator|                time|         releasedate|            language|   stars|             price|\n",
      "+-------+-------------------------------------+--------------------+--------------------+--------------------+--------------------+--------------------+--------+------------------+\n",
      "|  count|                                87489|               87489|               87489|               87489|               87487|               87486|   87485|             87485|\n",
      "|   mean|                               5791.0|                NULL|                NULL|                NULL|                NULL|                NULL|    NULL| 487.9825605549643|\n",
      "| stddev|                   24963.684930656236|                NULL|                NULL|                NULL|                NULL|                NULL|    NULL|255.14049995705065|\n",
      "|    min|                 !Aycons Managemen...| \"\"Goops and How ...|         \"\"Brother\"\"|             Wait!]\"|,Narratedby:JohnA...|,3 hrs and 37 min...|01-02-13|          06-04-21|\n",
      "|    max|ｔｈｅ　ｆｏｕｒ　ＧＡＦＡ　四騎士...|    Writtenby:ＳＯＷ|Writtenby:SmartRe...|Writtenby:RamaniS...|Writtenby:OlgaKor...|                urdu| spanish|     Not rated yet|\n",
      "+-------+-------------------------------------+--------------------+--------------------+--------------------+--------------------+--------------------+--------+------------------+\n",
      "\n"
     ]
    },
    {
     "name": "stderr",
     "output_type": "stream",
     "text": [
      "                                                                                "
     ]
    }
   ],
   "source": [
    "df.describe().show()"
   ]
  },
  {
   "cell_type": "markdown",
   "id": "033d4aed-925b-453d-a153-8b5f77d0a464",
   "metadata": {},
   "source": [
    "# Data Transformation"
   ]
  },
  {
   "cell_type": "code",
   "execution_count": 88,
   "id": "e89422cb-9d8c-4a58-9cae-677a8978b4db",
   "metadata": {},
   "outputs": [
    {
     "name": "stdout",
     "output_type": "stream",
     "text": [
      "+--------------------+\n",
      "|              author|\n",
      "+--------------------+\n",
      "|Writtenby:Geronim...|\n",
      "|Writtenby:RickRio...|\n",
      "|Writtenby:JeffKinney|\n",
      "|Writtenby:RickRio...|\n",
      "|Writtenby:RickRio...|\n",
      "|Writtenby:Suzanne...|\n",
      "|Writtenby:WinterM...|\n",
      "|Writtenby:RickRio...|\n",
      "|Writtenby:MaryPop...|\n",
      "|Writtenby:RickRio...|\n",
      "|Writtenby:RickRio...|\n",
      "|Writtenby:MaryPop...|\n",
      "|Writtenby:MaryPop...|\n",
      "|Writtenby:RickRio...|\n",
      "|Writtenby:PhilipP...|\n",
      "|Writtenby:Geronim...|\n",
      "|Writtenby:MaryPop...|\n",
      "|Writtenby:Shannon...|\n",
      "|Writtenby:MaryPop...|\n",
      "|Writtenby:Shannon...|\n",
      "+--------------------+\n",
      "only showing top 20 rows\n",
      "\n"
     ]
    }
   ],
   "source": [
    "df.select('author').show()"
   ]
  },
  {
   "cell_type": "code",
   "execution_count": 89,
   "id": "42d37f92-2af5-4a10-96c4-3583f02116d0",
   "metadata": {
    "scrolled": true
   },
   "outputs": [
    {
     "name": "stdout",
     "output_type": "stream",
     "text": [
      "root\n",
      " |-- name: string (nullable = true)\n",
      " |-- author: string (nullable = true)\n",
      " |-- narrator: string (nullable = true)\n",
      " |-- time: string (nullable = true)\n",
      " |-- releasedate: string (nullable = true)\n",
      " |-- language: string (nullable = true)\n",
      " |-- stars: string (nullable = true)\n",
      " |-- price: string (nullable = true)\n",
      "\n"
     ]
    }
   ],
   "source": [
    "df.printSchema()"
   ]
  },
  {
   "cell_type": "code",
   "execution_count": 90,
   "id": "8316f871-eba0-403c-b76a-c4065614503f",
   "metadata": {
    "scrolled": true
   },
   "outputs": [
    {
     "name": "stdout",
     "output_type": "stream",
     "text": [
      "+--------------------+--------------------+--------------------+------------------+-----------+--------+--------------------+--------+\n",
      "|                name|              author|            narrator|              time|releasedate|language|               stars|   price|\n",
      "+--------------------+--------------------+--------------------+------------------+-----------+--------+--------------------+--------+\n",
      "|Geronimo Stilton ...|Writtenby:Geronim...|Narratedby:BillLo...| 2 hrs and 20 mins|   04-08-08| English|5 out of 5 stars3...|  468.00|\n",
      "|    The Burning Maze|Writtenby:RickRio...|Narratedby:Robbie...| 13 hrs and 8 mins|   01-05-18| English|4.5 out of 5 star...|  820.00|\n",
      "|        The Deep End|Writtenby:JeffKinney|Narratedby:DanRus...|  2 hrs and 3 mins|   06-11-20| English|4.5 out of 5 star...|  410.00|\n",
      "|Daughter of the Deep|Writtenby:RickRio...|Narratedby:Soneel...|11 hrs and 16 mins|   05-10-21| English|4.5 out of 5 star...|  615.00|\n",
      "|The Lightning Thi...|Writtenby:RickRio...|Narratedby:JesseB...|            10 hrs|   13-01-10| English|4.5 out of 5 star...|  820.00|\n",
      "|The Hunger Games:...|Writtenby:Suzanne...|Narratedby:Tatian...|10 hrs and 35 mins|   30-10-18| English|5 out of 5 stars7...|  656.00|\n",
      "|Quest for the Dia...|Writtenby:WinterM...|Narratedby:LukeDa...| 2 hrs and 23 mins|   25-11-14| English|5 out of 5 stars1...|  233.00|\n",
      "|   The Dark Prophecy|Writtenby:RickRio...|Narratedby:Robbie...|12 hrs and 32 mins|   02-05-17| English|5 out of 5 stars5...|  820.00|\n",
      "|Merlin Mission Co...|Writtenby:MaryPop...|Narratedby:MaryPo...|10 hrs and 56 mins|   02-05-17| English|5 out of 5 stars5...|1,256.00|\n",
      "|   The Tyrant’s Tomb|Writtenby:RickRio...|Narratedby:Robbie...|13 hrs and 22 mins|   24-09-19| English|5 out of 5 stars5...|  820.00|\n",
      "|The Titan's Curse...|Writtenby:RickRio...|Narratedby:JesseB...| 8 hrs and 48 mins|   14-01-10| English|4.5 out of 5 star...|  820.00|\n",
      "|Magic Tree House ...|Writtenby:MaryPop...|Narratedby:MaryPo...| 5 hrs and 23 mins|   24-08-11| English|5 out of 5 stars6...|1,206.00|\n",
      "|Magic Tree House ...|Writtenby:MaryPop...|Narratedby:MaryPo...|   6 hrs and 1 min|   27-09-11| English|5 out of 5 stars7...|1,206.00|\n",
      "|Magnus Chase and ...|Writtenby:RickRio...|Narratedby:Michae...|12 hrs and 58 mins|   03-10-17| English|5 out of 5 stars4...|  820.00|\n",
      "|     Northern Lights|Writtenby:PhilipP...|Narratedby:Philip...|11 hrs and 55 mins|   24-06-21| English|4 out of 5 stars2...|1,093.00|\n",
      "|Geronimo Stilton ...|Writtenby:Geronim...|Narratedby:BillLo...| 2 hrs and 25 mins|   08-02-08| English|4.5 out of 5 star...|  467.00|\n",
      "|Magic Tree House ...|Writtenby:MaryPop...|Narratedby:MaryPo...|  5 hrs and 4 mins|   26-12-04| English|5 out of 5 stars7...|1,206.00|\n",
      "|               Exile|Writtenby:Shannon...|Narratedby:Caitli...|14 hrs and 41 mins|   06-11-18| English|5 out of 5 stars2...|  836.00|\n",
      "|Merlin Mission Co...|Writtenby:MaryPop...|Narratedby:MaryPo...|10 hrs and 18 mins|   02-05-17| English|5 out of 5 stars1...|1,256.00|\n",
      "|           Neverseen|Writtenby:Shannon...|Narratedby:Caitli...|16 hrs and 42 mins|   06-11-18| English|5 out of 5 stars1...|1,003.00|\n",
      "+--------------------+--------------------+--------------------+------------------+-----------+--------+--------------------+--------+\n",
      "only showing top 20 rows\n",
      "\n"
     ]
    }
   ],
   "source": [
    "df.show()"
   ]
  },
  {
   "cell_type": "code",
   "execution_count": 91,
   "id": "e06fd2e9-9796-4616-a14f-a954b599019b",
   "metadata": {},
   "outputs": [],
   "source": [
    "from pyspark.sql.types import *"
   ]
  },
  {
   "cell_type": "code",
   "execution_count": 92,
   "id": "abf80115-c9de-4db0-890b-e202ef6c012e",
   "metadata": {},
   "outputs": [
    {
     "name": "stdout",
     "output_type": "stream",
     "text": [
      "+--------------------+--------------------+--------------------+------------------+-----------+--------+--------------------+--------+-------+\n",
      "|                name|              author|            narrator|              time|releasedate|language|               stars|   price| prices|\n",
      "+--------------------+--------------------+--------------------+------------------+-----------+--------+--------------------+--------+-------+\n",
      "|Geronimo Stilton ...|Writtenby:Geronim...|Narratedby:BillLo...| 2 hrs and 20 mins|   04-08-08| English|5 out of 5 stars3...|  468.00| 468.00|\n",
      "|    The Burning Maze|Writtenby:RickRio...|Narratedby:Robbie...| 13 hrs and 8 mins|   01-05-18| English|4.5 out of 5 star...|  820.00| 820.00|\n",
      "|        The Deep End|Writtenby:JeffKinney|Narratedby:DanRus...|  2 hrs and 3 mins|   06-11-20| English|4.5 out of 5 star...|  410.00| 410.00|\n",
      "|Daughter of the Deep|Writtenby:RickRio...|Narratedby:Soneel...|11 hrs and 16 mins|   05-10-21| English|4.5 out of 5 star...|  615.00| 615.00|\n",
      "|The Lightning Thi...|Writtenby:RickRio...|Narratedby:JesseB...|            10 hrs|   13-01-10| English|4.5 out of 5 star...|  820.00| 820.00|\n",
      "|The Hunger Games:...|Writtenby:Suzanne...|Narratedby:Tatian...|10 hrs and 35 mins|   30-10-18| English|5 out of 5 stars7...|  656.00| 656.00|\n",
      "|Quest for the Dia...|Writtenby:WinterM...|Narratedby:LukeDa...| 2 hrs and 23 mins|   25-11-14| English|5 out of 5 stars1...|  233.00| 233.00|\n",
      "|   The Dark Prophecy|Writtenby:RickRio...|Narratedby:Robbie...|12 hrs and 32 mins|   02-05-17| English|5 out of 5 stars5...|  820.00| 820.00|\n",
      "|Merlin Mission Co...|Writtenby:MaryPop...|Narratedby:MaryPo...|10 hrs and 56 mins|   02-05-17| English|5 out of 5 stars5...|1,256.00|1256.00|\n",
      "|   The Tyrant’s Tomb|Writtenby:RickRio...|Narratedby:Robbie...|13 hrs and 22 mins|   24-09-19| English|5 out of 5 stars5...|  820.00| 820.00|\n",
      "|The Titan's Curse...|Writtenby:RickRio...|Narratedby:JesseB...| 8 hrs and 48 mins|   14-01-10| English|4.5 out of 5 star...|  820.00| 820.00|\n",
      "|Magic Tree House ...|Writtenby:MaryPop...|Narratedby:MaryPo...| 5 hrs and 23 mins|   24-08-11| English|5 out of 5 stars6...|1,206.00|1206.00|\n",
      "|Magic Tree House ...|Writtenby:MaryPop...|Narratedby:MaryPo...|   6 hrs and 1 min|   27-09-11| English|5 out of 5 stars7...|1,206.00|1206.00|\n",
      "|Magnus Chase and ...|Writtenby:RickRio...|Narratedby:Michae...|12 hrs and 58 mins|   03-10-17| English|5 out of 5 stars4...|  820.00| 820.00|\n",
      "|     Northern Lights|Writtenby:PhilipP...|Narratedby:Philip...|11 hrs and 55 mins|   24-06-21| English|4 out of 5 stars2...|1,093.00|1093.00|\n",
      "|Geronimo Stilton ...|Writtenby:Geronim...|Narratedby:BillLo...| 2 hrs and 25 mins|   08-02-08| English|4.5 out of 5 star...|  467.00| 467.00|\n",
      "|Magic Tree House ...|Writtenby:MaryPop...|Narratedby:MaryPo...|  5 hrs and 4 mins|   26-12-04| English|5 out of 5 stars7...|1,206.00|1206.00|\n",
      "|               Exile|Writtenby:Shannon...|Narratedby:Caitli...|14 hrs and 41 mins|   06-11-18| English|5 out of 5 stars2...|  836.00| 836.00|\n",
      "|Merlin Mission Co...|Writtenby:MaryPop...|Narratedby:MaryPo...|10 hrs and 18 mins|   02-05-17| English|5 out of 5 stars1...|1,256.00|1256.00|\n",
      "|           Neverseen|Writtenby:Shannon...|Narratedby:Caitli...|16 hrs and 42 mins|   06-11-18| English|5 out of 5 stars1...|1,003.00|1003.00|\n",
      "+--------------------+--------------------+--------------------+------------------+-----------+--------+--------------------+--------+-------+\n",
      "only showing top 20 rows\n",
      "\n"
     ]
    }
   ],
   "source": [
    "df = df.withColumn(\"prices\", regexp_replace(col(\"price\"),\",\",\"\"))\n",
    "df.show()"
   ]
  },
  {
   "cell_type": "code",
   "execution_count": 93,
   "id": "8b801a4f-8956-4e39-ac09-59c4d0aa8012",
   "metadata": {},
   "outputs": [
    {
     "name": "stdout",
     "output_type": "stream",
     "text": [
      "+--------------------+--------------------+--------------------+------------------+-----------+--------+--------------------+------+\n",
      "|                name|              author|            narrator|              time|releasedate|language|               stars|prices|\n",
      "+--------------------+--------------------+--------------------+------------------+-----------+--------+--------------------+------+\n",
      "|Geronimo Stilton ...|Writtenby:Geronim...|Narratedby:BillLo...| 2 hrs and 20 mins|   04-08-08| English|5 out of 5 stars3...| 468.0|\n",
      "|    The Burning Maze|Writtenby:RickRio...|Narratedby:Robbie...| 13 hrs and 8 mins|   01-05-18| English|4.5 out of 5 star...| 820.0|\n",
      "|        The Deep End|Writtenby:JeffKinney|Narratedby:DanRus...|  2 hrs and 3 mins|   06-11-20| English|4.5 out of 5 star...| 410.0|\n",
      "|Daughter of the Deep|Writtenby:RickRio...|Narratedby:Soneel...|11 hrs and 16 mins|   05-10-21| English|4.5 out of 5 star...| 615.0|\n",
      "|The Lightning Thi...|Writtenby:RickRio...|Narratedby:JesseB...|            10 hrs|   13-01-10| English|4.5 out of 5 star...| 820.0|\n",
      "|The Hunger Games:...|Writtenby:Suzanne...|Narratedby:Tatian...|10 hrs and 35 mins|   30-10-18| English|5 out of 5 stars7...| 656.0|\n",
      "|Quest for the Dia...|Writtenby:WinterM...|Narratedby:LukeDa...| 2 hrs and 23 mins|   25-11-14| English|5 out of 5 stars1...| 233.0|\n",
      "|   The Dark Prophecy|Writtenby:RickRio...|Narratedby:Robbie...|12 hrs and 32 mins|   02-05-17| English|5 out of 5 stars5...| 820.0|\n",
      "|Merlin Mission Co...|Writtenby:MaryPop...|Narratedby:MaryPo...|10 hrs and 56 mins|   02-05-17| English|5 out of 5 stars5...|1256.0|\n",
      "|   The Tyrant’s Tomb|Writtenby:RickRio...|Narratedby:Robbie...|13 hrs and 22 mins|   24-09-19| English|5 out of 5 stars5...| 820.0|\n",
      "|The Titan's Curse...|Writtenby:RickRio...|Narratedby:JesseB...| 8 hrs and 48 mins|   14-01-10| English|4.5 out of 5 star...| 820.0|\n",
      "|Magic Tree House ...|Writtenby:MaryPop...|Narratedby:MaryPo...| 5 hrs and 23 mins|   24-08-11| English|5 out of 5 stars6...|1206.0|\n",
      "|Magic Tree House ...|Writtenby:MaryPop...|Narratedby:MaryPo...|   6 hrs and 1 min|   27-09-11| English|5 out of 5 stars7...|1206.0|\n",
      "|Magnus Chase and ...|Writtenby:RickRio...|Narratedby:Michae...|12 hrs and 58 mins|   03-10-17| English|5 out of 5 stars4...| 820.0|\n",
      "|     Northern Lights|Writtenby:PhilipP...|Narratedby:Philip...|11 hrs and 55 mins|   24-06-21| English|4 out of 5 stars2...|1093.0|\n",
      "|Geronimo Stilton ...|Writtenby:Geronim...|Narratedby:BillLo...| 2 hrs and 25 mins|   08-02-08| English|4.5 out of 5 star...| 467.0|\n",
      "|Magic Tree House ...|Writtenby:MaryPop...|Narratedby:MaryPo...|  5 hrs and 4 mins|   26-12-04| English|5 out of 5 stars7...|1206.0|\n",
      "|               Exile|Writtenby:Shannon...|Narratedby:Caitli...|14 hrs and 41 mins|   06-11-18| English|5 out of 5 stars2...| 836.0|\n",
      "|Merlin Mission Co...|Writtenby:MaryPop...|Narratedby:MaryPo...|10 hrs and 18 mins|   02-05-17| English|5 out of 5 stars1...|1256.0|\n",
      "|           Neverseen|Writtenby:Shannon...|Narratedby:Caitli...|16 hrs and 42 mins|   06-11-18| English|5 out of 5 stars1...|1003.0|\n",
      "+--------------------+--------------------+--------------------+------------------+-----------+--------+--------------------+------+\n",
      "only showing top 20 rows\n",
      "\n",
      "root\n",
      " |-- name: string (nullable = true)\n",
      " |-- author: string (nullable = true)\n",
      " |-- narrator: string (nullable = true)\n",
      " |-- time: string (nullable = true)\n",
      " |-- releasedate: string (nullable = true)\n",
      " |-- language: string (nullable = true)\n",
      " |-- stars: string (nullable = true)\n",
      " |-- prices: float (nullable = true)\n",
      "\n"
     ]
    }
   ],
   "source": [
    "df = df.withColumn('prices', df.prices.cast('float')).drop(\"price\")\n",
    "df.show()\n",
    "df.printSchema()"
   ]
  },
  {
   "cell_type": "code",
   "execution_count": 94,
   "id": "d1312b45-e74f-4958-8eb1-7daa6b0f5093",
   "metadata": {},
   "outputs": [
    {
     "name": "stdout",
     "output_type": "stream",
     "text": [
      "+------------------------------------------+--------------------------+--------------------------------------------+------------------+-----------+--------+-----------------------------+------+\n",
      "|name                                      |author                    |narrator                                    |time              |releasedate|language|stars                        |prices|\n",
      "+------------------------------------------+--------------------------+--------------------------------------------+------------------+-----------+--------+-----------------------------+------+\n",
      "|Geronimo Stilton #11 & #12                |Writtenby:GeronimoStilton |Narratedby:BillLobely                       |2 hrs and 20 mins |04-08-08   |English |5 out of 5 stars34 ratings   |468.0 |\n",
      "|The Burning Maze                          |Writtenby:RickRiordan     |Narratedby:RobbieDaymond                    |13 hrs and 8 mins |01-05-18   |English |4.5 out of 5 stars41 ratings |820.0 |\n",
      "|The Deep End                              |Writtenby:JeffKinney      |Narratedby:DanRussell                       |2 hrs and 3 mins  |06-11-20   |English |4.5 out of 5 stars38 ratings |410.0 |\n",
      "|Daughter of the Deep                      |Writtenby:RickRiordan     |Narratedby:SoneelaNankani                   |11 hrs and 16 mins|05-10-21   |English |4.5 out of 5 stars12 ratings |615.0 |\n",
      "|The Lightning Thief: Percy Jackson, Book 1|Writtenby:RickRiordan     |Narratedby:JesseBernstein                   |10 hrs            |13-01-10   |English |4.5 out of 5 stars181 ratings|820.0 |\n",
      "|The Hunger Games: Special Edition         |Writtenby:SuzanneCollins  |Narratedby:TatianaMaslany                   |10 hrs and 35 mins|30-10-18   |English |5 out of 5 stars72 ratings   |656.0 |\n",
      "|Quest for the Diamond Sword               |Writtenby:WinterMorgan    |Narratedby:LukeDaniels                      |2 hrs and 23 mins |25-11-14   |English |5 out of 5 stars11 ratings   |233.0 |\n",
      "|The Dark Prophecy                         |Writtenby:RickRiordan     |Narratedby:RobbieDaymond                    |12 hrs and 32 mins|02-05-17   |English |5 out of 5 stars50 ratings   |820.0 |\n",
      "|Merlin Mission Collection                 |Writtenby:MaryPopeOsborne |Narratedby:MaryPopeOsborne                  |10 hrs and 56 mins|02-05-17   |English |5 out of 5 stars5 ratings    |1256.0|\n",
      "|The Tyrant’s Tomb                         |Writtenby:RickRiordan     |Narratedby:RobbieDaymond                    |13 hrs and 22 mins|24-09-19   |English |5 out of 5 stars58 ratings   |820.0 |\n",
      "|The Titan's Curse: Percy Jackson, Book 3  |Writtenby:RickRiordan     |Narratedby:JesseBernstein                   |8 hrs and 48 mins |14-01-10   |English |4.5 out of 5 stars130 ratings|820.0 |\n",
      "|Magic Tree House Collection: Books 9-16   |Writtenby:MaryPopeOsborne |Narratedby:MaryPopeOsborne                  |5 hrs and 23 mins |24-08-11   |English |5 out of 5 stars6 ratings    |1206.0|\n",
      "|Magic Tree House Collection: Books 1-8    |Writtenby:MaryPopeOsborne |Narratedby:MaryPopeOsborne                  |6 hrs and 1 min   |27-09-11   |English |5 out of 5 stars7 ratings    |1206.0|\n",
      "|Magnus Chase and the Ship of the Dead     |Writtenby:RickRiordan     |Narratedby:MichaelCrouch                    |12 hrs and 58 mins|03-10-17   |English |5 out of 5 stars41 ratings   |820.0 |\n",
      "|Northern Lights                           |Writtenby:PhilipPullman   |Narratedby:PhilipPullman,fullcast,RuthWilson|11 hrs and 55 mins|24-06-21   |English |4 out of 5 stars2 ratings    |1093.0|\n",
      "|Geronimo Stilton #13 and #14              |Writtenby:GeronimoStilton |Narratedby:BillLobley                       |2 hrs and 25 mins |08-02-08   |English |4.5 out of 5 stars33 ratings |467.0 |\n",
      "|Magic Tree House Collection               |Writtenby:MaryPopeOsborne |Narratedby:MaryPopeOsborne                  |5 hrs and 4 mins  |26-12-04   |English |5 out of 5 stars7 ratings    |1206.0|\n",
      "|Exile                                     |Writtenby:ShannonMessenger|Narratedby:CaitlinKelly                     |14 hrs and 41 mins|06-11-18   |English |5 out of 5 stars20 ratings   |836.0 |\n",
      "|Merlin Mission Collection                 |Writtenby:MaryPopeOsborne |Narratedby:MaryPopeOsborne                  |10 hrs and 18 mins|02-05-17   |English |5 out of 5 stars11 ratings   |1256.0|\n",
      "|Neverseen                                 |Writtenby:ShannonMessenger|Narratedby:CaitlinKelly                     |16 hrs and 42 mins|06-11-18   |English |5 out of 5 stars13 ratings   |1003.0|\n",
      "+------------------------------------------+--------------------------+--------------------------------------------+------------------+-----------+--------+-----------------------------+------+\n",
      "only showing top 20 rows\n",
      "\n"
     ]
    }
   ],
   "source": [
    "df.show(truncate=False)"
   ]
  },
  {
   "cell_type": "code",
   "execution_count": 95,
   "id": "ed1237ea-cf0a-4e85-9d49-7f33eff73bca",
   "metadata": {},
   "outputs": [
    {
     "name": "stdout",
     "output_type": "stream",
     "text": [
      "+--------------------+--------------------+--------------------+------------------+-----------+--------+--------------------+------+---+----+\n",
      "|                name|              author|            narrator|              time|releasedate|language|               stars|prices|hrs|mins|\n",
      "+--------------------+--------------------+--------------------+------------------+-----------+--------+--------------------+------+---+----+\n",
      "|Geronimo Stilton ...|Writtenby:Geronim...|Narratedby:BillLo...| 2 hrs and 20 mins|   04-08-08| English|5 out of 5 stars3...| 468.0|  2|  20|\n",
      "|    The Burning Maze|Writtenby:RickRio...|Narratedby:Robbie...| 13 hrs and 8 mins|   01-05-18| English|4.5 out of 5 star...| 820.0| 13|   8|\n",
      "|        The Deep End|Writtenby:JeffKinney|Narratedby:DanRus...|  2 hrs and 3 mins|   06-11-20| English|4.5 out of 5 star...| 410.0|  2|   3|\n",
      "|Daughter of the Deep|Writtenby:RickRio...|Narratedby:Soneel...|11 hrs and 16 mins|   05-10-21| English|4.5 out of 5 star...| 615.0| 11|  16|\n",
      "|The Lightning Thi...|Writtenby:RickRio...|Narratedby:JesseB...|            10 hrs|   13-01-10| English|4.5 out of 5 star...| 820.0| 10|   0|\n",
      "|The Hunger Games:...|Writtenby:Suzanne...|Narratedby:Tatian...|10 hrs and 35 mins|   30-10-18| English|5 out of 5 stars7...| 656.0| 10|  35|\n",
      "+--------------------+--------------------+--------------------+------------------+-----------+--------+--------------------+------+---+----+\n",
      "only showing top 6 rows\n",
      "\n",
      "+--------------------+--------------------+--------------------+----+-----------+--------+--------------------+------+---+----+\n",
      "|                name|              author|            narrator|time|releasedate|language|               stars|prices|hrs|mins|\n",
      "+--------------------+--------------------+--------------------+----+-----------+--------+--------------------+------+---+----+\n",
      "|Geronimo Stilton ...|Writtenby:Geronim...|Narratedby:BillLo...| 140|   04-08-08| English|5 out of 5 stars3...| 468.0|  2|  20|\n",
      "|    The Burning Maze|Writtenby:RickRio...|Narratedby:Robbie...| 788|   01-05-18| English|4.5 out of 5 star...| 820.0| 13|   8|\n",
      "|        The Deep End|Writtenby:JeffKinney|Narratedby:DanRus...| 123|   06-11-20| English|4.5 out of 5 star...| 410.0|  2|   3|\n",
      "|Daughter of the Deep|Writtenby:RickRio...|Narratedby:Soneel...| 676|   05-10-21| English|4.5 out of 5 star...| 615.0| 11|  16|\n",
      "|The Lightning Thi...|Writtenby:RickRio...|Narratedby:JesseB...| 600|   13-01-10| English|4.5 out of 5 star...| 820.0| 10|   0|\n",
      "|The Hunger Games:...|Writtenby:Suzanne...|Narratedby:Tatian...| 635|   30-10-18| English|5 out of 5 stars7...| 656.0| 10|  35|\n",
      "|Quest for the Dia...|Writtenby:WinterM...|Narratedby:LukeDa...| 143|   25-11-14| English|5 out of 5 stars1...| 233.0|  2|  23|\n",
      "|   The Dark Prophecy|Writtenby:RickRio...|Narratedby:Robbie...| 752|   02-05-17| English|5 out of 5 stars5...| 820.0| 12|  32|\n",
      "|Merlin Mission Co...|Writtenby:MaryPop...|Narratedby:MaryPo...| 656|   02-05-17| English|5 out of 5 stars5...|1256.0| 10|  56|\n",
      "|   The Tyrant’s Tomb|Writtenby:RickRio...|Narratedby:Robbie...| 802|   24-09-19| English|5 out of 5 stars5...| 820.0| 13|  22|\n",
      "|The Titan's Curse...|Writtenby:RickRio...|Narratedby:JesseB...| 528|   14-01-10| English|4.5 out of 5 star...| 820.0|  8|  48|\n",
      "|Magic Tree House ...|Writtenby:MaryPop...|Narratedby:MaryPo...| 323|   24-08-11| English|5 out of 5 stars6...|1206.0|  5|  23|\n",
      "|Magic Tree House ...|Writtenby:MaryPop...|Narratedby:MaryPo...| 361|   27-09-11| English|5 out of 5 stars7...|1206.0|  6|   1|\n",
      "|Magnus Chase and ...|Writtenby:RickRio...|Narratedby:Michae...| 778|   03-10-17| English|5 out of 5 stars4...| 820.0| 12|  58|\n",
      "|     Northern Lights|Writtenby:PhilipP...|Narratedby:Philip...| 715|   24-06-21| English|4 out of 5 stars2...|1093.0| 11|  55|\n",
      "|Geronimo Stilton ...|Writtenby:Geronim...|Narratedby:BillLo...| 145|   08-02-08| English|4.5 out of 5 star...| 467.0|  2|  25|\n",
      "|Magic Tree House ...|Writtenby:MaryPop...|Narratedby:MaryPo...| 304|   26-12-04| English|5 out of 5 stars7...|1206.0|  5|   4|\n",
      "|               Exile|Writtenby:Shannon...|Narratedby:Caitli...| 881|   06-11-18| English|5 out of 5 stars2...| 836.0| 14|  41|\n",
      "|Merlin Mission Co...|Writtenby:MaryPop...|Narratedby:MaryPo...| 618|   02-05-17| English|5 out of 5 stars1...|1256.0| 10|  18|\n",
      "|           Neverseen|Writtenby:Shannon...|Narratedby:Caitli...|1002|   06-11-18| English|5 out of 5 stars1...|1003.0| 16|  42|\n",
      "+--------------------+--------------------+--------------------+----+-----------+--------+--------------------+------+---+----+\n",
      "only showing top 20 rows\n",
      "\n"
     ]
    }
   ],
   "source": [
    "# we will calculate the time in munutes and write that in time col\n",
    "from pyspark.sql.functions import *\n",
    "\n",
    "hrs = regexp_extract(col('time'), r\"(\\d+)\\s*hrs?\", 1).cast('int')\n",
    "mins = regexp_extract(col(\"time\"), r\"(\\d+)\\s*mins?\", 1).cast(\"int\")\n",
    "\n",
    "df.withColumn(\"hrs\",hrs).withColumn(\"mins\", mins)\\\n",
    ".na.fill(value=0, subset=[\"hrs\",\"mins\"]).show(6)\n",
    "df.withColumn(\"hrs\",hrs).withColumn(\"mins\", mins).na.fill(value=0, subset=[\"hrs\",\"mins\"]).withColumn(\"time\", col(\"hrs\")*60+col(\"mins\")).show()\n",
    "\n",
    "df = df.withColumn(\"hrs\",hrs).withColumn(\"mins\", mins)\\\n",
    "            .na.fill(value=0, subset=[\"hrs\",\"mins\"])\\\n",
    "            .withColumn(\"time\", col(\"hrs\")*60+col(\"mins\"))\\\n",
    "            .drop(\"hrs\", \"mins\")"
   ]
  },
  {
   "cell_type": "code",
   "execution_count": 96,
   "id": "c2cbd2c9-1384-49b4-bfc6-8d8eca6d39f8",
   "metadata": {},
   "outputs": [
    {
     "name": "stdout",
     "output_type": "stream",
     "text": [
      "+--------------------+--------------------+--------------------+-----------+--------+--------------------+------+-------------+\n",
      "|                name|              author|            narrator|releasedate|language|               stars|prices|time(in mins)|\n",
      "+--------------------+--------------------+--------------------+-----------+--------+--------------------+------+-------------+\n",
      "|Geronimo Stilton ...|Writtenby:Geronim...|Narratedby:BillLo...|   04-08-08| English|5 out of 5 stars3...| 468.0|          140|\n",
      "|    The Burning Maze|Writtenby:RickRio...|Narratedby:Robbie...|   01-05-18| English|4.5 out of 5 star...| 820.0|          788|\n",
      "|        The Deep End|Writtenby:JeffKinney|Narratedby:DanRus...|   06-11-20| English|4.5 out of 5 star...| 410.0|          123|\n",
      "|Daughter of the Deep|Writtenby:RickRio...|Narratedby:Soneel...|   05-10-21| English|4.5 out of 5 star...| 615.0|          676|\n",
      "|The Lightning Thi...|Writtenby:RickRio...|Narratedby:JesseB...|   13-01-10| English|4.5 out of 5 star...| 820.0|          600|\n",
      "|The Hunger Games:...|Writtenby:Suzanne...|Narratedby:Tatian...|   30-10-18| English|5 out of 5 stars7...| 656.0|          635|\n",
      "|Quest for the Dia...|Writtenby:WinterM...|Narratedby:LukeDa...|   25-11-14| English|5 out of 5 stars1...| 233.0|          143|\n",
      "|   The Dark Prophecy|Writtenby:RickRio...|Narratedby:Robbie...|   02-05-17| English|5 out of 5 stars5...| 820.0|          752|\n",
      "+--------------------+--------------------+--------------------+-----------+--------+--------------------+------+-------------+\n",
      "only showing top 8 rows\n",
      "\n",
      "root\n",
      " |-- name: string (nullable = true)\n",
      " |-- author: string (nullable = true)\n",
      " |-- narrator: string (nullable = true)\n",
      " |-- releasedate: string (nullable = true)\n",
      " |-- language: string (nullable = true)\n",
      " |-- stars: string (nullable = true)\n",
      " |-- prices: float (nullable = true)\n",
      " |-- time(in mins): integer (nullable = true)\n",
      "\n"
     ]
    }
   ],
   "source": [
    "df = df.withColumn(\"time(in mins)\", df['time']).drop(\"time\")\n",
    "df.show(8)\n",
    "df.printSchema()"
   ]
  },
  {
   "cell_type": "code",
   "execution_count": 97,
   "id": "70d2e75a-18f1-45f9-9515-233df4271cd1",
   "metadata": {},
   "outputs": [
    {
     "name": "stdout",
     "output_type": "stream",
     "text": [
      "+-------------------------------+\n",
      "|stars                          |\n",
      "+-------------------------------+\n",
      "|5 out of 5 stars72 ratings     |\n",
      "|4.5 out of 5 stars136 ratings  |\n",
      "|4.5 out of 5 stars47 ratings   |\n",
      "|5 out of 5 stars15 ratings     |\n",
      "|5 out of 5 stars18 ratings     |\n",
      "|5 out of 5 stars130 ratings    |\n",
      "|4.5 out of 5 stars1,080 ratings|\n",
      "|3.5 out of 5 stars46 ratings   |\n",
      "|4.5 out of 5 stars39 ratings   |\n",
      "|4.5 out of 5 stars1,807 ratings|\n",
      "|4.5 out of 5 stars88 ratings   |\n",
      "|4.5 out of 5 stars91 ratings   |\n",
      "|4.5 out of 5 stars53 ratings   |\n",
      "|4 out of 5 stars66 ratings     |\n",
      "|4 out of 5 stars28 ratings     |\n",
      "|3.5 out of 5 stars17 ratings   |\n",
      "|4.5 out of 5 stars135 ratings  |\n",
      "|4.5 out of 5 stars182 ratings  |\n",
      "|4 out of 5 stars9 ratings      |\n",
      "|5 out of 5 stars572 ratings    |\n",
      "+-------------------------------+\n",
      "only showing top 20 rows\n",
      "\n"
     ]
    }
   ],
   "source": [
    "df.select(\"stars\").distinct().show(truncate=False)"
   ]
  },
  {
   "cell_type": "code",
   "execution_count": 98,
   "id": "5b27bf2b-453c-4ade-b141-c644a6ae8c95",
   "metadata": {},
   "outputs": [
    {
     "name": "stdout",
     "output_type": "stream",
     "text": [
      "+--------------------+--------------------+--------------------+-----------+--------+--------------------+------+-------------+---------------+\n",
      "|                name|              author|            narrator|releasedate|language|               stars|prices|time(in mins)|stars(out of 5)|\n",
      "+--------------------+--------------------+--------------------+-----------+--------+--------------------+------+-------------+---------------+\n",
      "|Geronimo Stilton ...|Writtenby:Geronim...|Narratedby:BillLo...|   04-08-08| English|5 out of 5 stars3...| 468.0|          140|            5.0|\n",
      "|    The Burning Maze|Writtenby:RickRio...|Narratedby:Robbie...|   01-05-18| English|4.5 out of 5 star...| 820.0|          788|            4.5|\n",
      "|        The Deep End|Writtenby:JeffKinney|Narratedby:DanRus...|   06-11-20| English|4.5 out of 5 star...| 410.0|          123|            4.5|\n",
      "|Daughter of the Deep|Writtenby:RickRio...|Narratedby:Soneel...|   05-10-21| English|4.5 out of 5 star...| 615.0|          676|            4.5|\n",
      "|The Lightning Thi...|Writtenby:RickRio...|Narratedby:JesseB...|   13-01-10| English|4.5 out of 5 star...| 820.0|          600|            4.5|\n",
      "+--------------------+--------------------+--------------------+-----------+--------+--------------------+------+-------------+---------------+\n",
      "only showing top 5 rows\n",
      "\n"
     ]
    }
   ],
   "source": [
    "#Extracting stars and ratings \n",
    "df = df.withColumn(\"stars(out of 5)\", regexp_extract(col(\"stars\"),r\"(\\d+(\\.\\d+)?)\\s*out\",1).cast(\"float\"))\n",
    "df.show(5)"
   ]
  },
  {
   "cell_type": "code",
   "execution_count": 99,
   "id": "a21e7aaa-8877-4445-91b0-a720ed7ffaa4",
   "metadata": {},
   "outputs": [
    {
     "name": "stdout",
     "output_type": "stream",
     "text": [
      "+--------------------+--------------------+--------------------+-----------+--------+------+-------------+---------------+-------+\n",
      "|                name|              author|            narrator|releasedate|language|prices|time(in mins)|stars(out of 5)|ratings|\n",
      "+--------------------+--------------------+--------------------+-----------+--------+------+-------------+---------------+-------+\n",
      "|Geronimo Stilton ...|Writtenby:Geronim...|Narratedby:BillLo...|   04-08-08| English| 468.0|          140|            5.0|     34|\n",
      "|    The Burning Maze|Writtenby:RickRio...|Narratedby:Robbie...|   01-05-18| English| 820.0|          788|            4.5|     41|\n",
      "|        The Deep End|Writtenby:JeffKinney|Narratedby:DanRus...|   06-11-20| English| 410.0|          123|            4.5|     38|\n",
      "|Daughter of the Deep|Writtenby:RickRio...|Narratedby:Soneel...|   05-10-21| English| 615.0|          676|            4.5|     12|\n",
      "|The Lightning Thi...|Writtenby:RickRio...|Narratedby:JesseB...|   13-01-10| English| 820.0|          600|            4.5|    181|\n",
      "+--------------------+--------------------+--------------------+-----------+--------+------+-------------+---------------+-------+\n",
      "only showing top 5 rows\n",
      "\n"
     ]
    }
   ],
   "source": [
    "df = df.withColumn(\"ratings\", regexp_extract(col(\"stars\"),r\"(\\d+(\\.\\d+)?)\\s*ratings\",1).cast(\"int\")).drop(\"stars\")\n",
    "df.show(5)\n"
   ]
  },
  {
   "cell_type": "code",
   "execution_count": 100,
   "id": "b3c5d397-dc67-43ca-bb04-4a93ab83b23f",
   "metadata": {},
   "outputs": [
    {
     "name": "stdout",
     "output_type": "stream",
     "text": [
      "root\n",
      " |-- name: string (nullable = true)\n",
      " |-- author: string (nullable = true)\n",
      " |-- narrator: string (nullable = true)\n",
      " |-- releasedate: string (nullable = true)\n",
      " |-- language: string (nullable = true)\n",
      " |-- prices: float (nullable = true)\n",
      " |-- time(in mins): integer (nullable = true)\n",
      " |-- stars(out of 5): float (nullable = true)\n",
      " |-- ratings: integer (nullable = true)\n",
      "\n"
     ]
    }
   ],
   "source": [
    "df.printSchema()"
   ]
  },
  {
   "cell_type": "code",
   "execution_count": 101,
   "id": "68effa6f-20f2-4c36-b9b2-e6b03b591888",
   "metadata": {},
   "outputs": [
    {
     "name": "stdout",
     "output_type": "stream",
     "text": [
      "+-----------+\n",
      "|releasedate|\n",
      "+-----------+\n",
      "|04-08-21   |\n",
      "|31-05-16   |\n",
      "|20-10-15   |\n",
      "|04-09-20   |\n",
      "|21-02-20   |\n",
      "|08-12-09   |\n",
      "|11-03-16   |\n",
      "|23-02-17   |\n",
      "|04-05-09   |\n",
      "|02-12-09   |\n",
      "|26-03-08   |\n",
      "|21-09-18   |\n",
      "|13-09-10   |\n",
      "|24-12-13   |\n",
      "|27-11-13   |\n",
      "|31-03-11   |\n",
      "|17-10-16   |\n",
      "|29-04-10   |\n",
      "|15-10-08   |\n",
      "|25-06-09   |\n",
      "+-----------+\n",
      "only showing top 20 rows\n",
      "\n"
     ]
    }
   ],
   "source": [
    "df.select(\"releasedate\").distinct().show(truncate=False)"
   ]
  },
  {
   "cell_type": "code",
   "execution_count": 102,
   "id": "47644add-5afd-4922-ba38-a409dd9b640c",
   "metadata": {},
   "outputs": [
    {
     "name": "stdout",
     "output_type": "stream",
     "text": [
      "+--------------------+--------------------+--------------------+-----------+--------+------+-------------+---------------+-------+-----------+\n",
      "|                name|              author|            narrator|releasedate|language|prices|time(in mins)|stars(out of 5)|ratings|date_format|\n",
      "+--------------------+--------------------+--------------------+-----------+--------+------+-------------+---------------+-------+-----------+\n",
      "|Geronimo Stilton ...|Writtenby:Geronim...|Narratedby:BillLo...|   04-08-08| English| 468.0|          140|            5.0|     34| 2008-08-04|\n",
      "|    The Burning Maze|Writtenby:RickRio...|Narratedby:Robbie...|   01-05-18| English| 820.0|          788|            4.5|     41| 2018-05-01|\n",
      "|        The Deep End|Writtenby:JeffKinney|Narratedby:DanRus...|   06-11-20| English| 410.0|          123|            4.5|     38| 2020-11-06|\n",
      "|Daughter of the Deep|Writtenby:RickRio...|Narratedby:Soneel...|   05-10-21| English| 615.0|          676|            4.5|     12| 2021-10-05|\n",
      "|The Lightning Thi...|Writtenby:RickRio...|Narratedby:JesseB...|   13-01-10| English| 820.0|          600|            4.5|    181| 2010-01-13|\n",
      "|The Hunger Games:...|Writtenby:Suzanne...|Narratedby:Tatian...|   30-10-18| English| 656.0|          635|            5.0|     72| 2018-10-30|\n",
      "+--------------------+--------------------+--------------------+-----------+--------+------+-------------+---------------+-------+-----------+\n",
      "only showing top 6 rows\n",
      "\n",
      "root\n",
      " |-- name: string (nullable = true)\n",
      " |-- author: string (nullable = true)\n",
      " |-- narrator: string (nullable = true)\n",
      " |-- releasedate: string (nullable = true)\n",
      " |-- language: string (nullable = true)\n",
      " |-- prices: float (nullable = true)\n",
      " |-- time(in mins): integer (nullable = true)\n",
      " |-- stars(out of 5): float (nullable = true)\n",
      " |-- ratings: integer (nullable = true)\n",
      " |-- date_format: date (nullable = true)\n",
      "\n"
     ]
    }
   ],
   "source": [
    "#convertng date \n",
    "df = df.withColumn(\"date_format\", to_date(col(\"releasedate\"), \"dd-MM-yy\"))\n",
    "df.show(6)\n",
    "df.printSchema()"
   ]
  },
  {
   "cell_type": "code",
   "execution_count": 103,
   "id": "fc76a4e4-dd5b-4b68-acf6-ac8521104d29",
   "metadata": {},
   "outputs": [
    {
     "name": "stdout",
     "output_type": "stream",
     "text": [
      "+--------------------+--------------------+--------------------+--------+------+-------------+---------------+-------+-----------+\n",
      "|                name|              author|            narrator|language|prices|time(in mins)|stars(out of 5)|ratings|date_format|\n",
      "+--------------------+--------------------+--------------------+--------+------+-------------+---------------+-------+-----------+\n",
      "|Geronimo Stilton ...|Writtenby:Geronim...|Narratedby:BillLo...| English| 468.0|          140|            5.0|     34| 2008-08-04|\n",
      "|    The Burning Maze|Writtenby:RickRio...|Narratedby:Robbie...| English| 820.0|          788|            4.5|     41| 2018-05-01|\n",
      "|        The Deep End|Writtenby:JeffKinney|Narratedby:DanRus...| English| 410.0|          123|            4.5|     38| 2020-11-06|\n",
      "|Daughter of the Deep|Writtenby:RickRio...|Narratedby:Soneel...| English| 615.0|          676|            4.5|     12| 2021-10-05|\n",
      "|The Lightning Thi...|Writtenby:RickRio...|Narratedby:JesseB...| English| 820.0|          600|            4.5|    181| 2010-01-13|\n",
      "+--------------------+--------------------+--------------------+--------+------+-------------+---------------+-------+-----------+\n",
      "only showing top 5 rows\n",
      "\n"
     ]
    }
   ],
   "source": [
    "df = df.drop(\"releasedate\")\n",
    "df.show(5)"
   ]
  },
  {
   "cell_type": "code",
   "execution_count": 104,
   "id": "1e265f39-38ec-43c8-addd-94d534a09804",
   "metadata": {},
   "outputs": [
    {
     "name": "stdout",
     "output_type": "stream",
     "text": [
      "+-------------------------+\n",
      "|author                   |\n",
      "+-------------------------+\n",
      "|Writtenby:GeronimoStilton|\n",
      "|Writtenby:RickRiordan    |\n",
      "|Writtenby:JeffKinney     |\n",
      "|Writtenby:RickRiordan    |\n",
      "|Writtenby:RickRiordan    |\n",
      "|Writtenby:SuzanneCollins |\n",
      "+-------------------------+\n",
      "only showing top 6 rows\n",
      "\n"
     ]
    }
   ],
   "source": [
    "df.select(\"author\").show(6, truncate = False)"
   ]
  },
  {
   "cell_type": "code",
   "execution_count": 105,
   "id": "5e7b0aff-ab0d-4e58-bcb5-d721ad8abde7",
   "metadata": {},
   "outputs": [],
   "source": [
    "#df.select(\"author\").rdd.flatMap(lambda x : x).collect()"
   ]
  },
  {
   "cell_type": "code",
   "execution_count": 106,
   "id": "993091e4-42cd-4ff4-8086-527d69992074",
   "metadata": {},
   "outputs": [
    {
     "name": "stdout",
     "output_type": "stream",
     "text": [
      "+--------------------------+\n",
      "|author                    |\n",
      "+--------------------------+\n",
      "|Writtenby:GeronimoStilton |\n",
      "|Writtenby:RickRiordan     |\n",
      "|Writtenby:JeffKinney      |\n",
      "|Writtenby:RickRiordan     |\n",
      "|Writtenby:RickRiordan     |\n",
      "|Writtenby:SuzanneCollins  |\n",
      "|Writtenby:WinterMorgan    |\n",
      "|Writtenby:RickRiordan     |\n",
      "|Writtenby:MaryPopeOsborne |\n",
      "|Writtenby:RickRiordan     |\n",
      "|Writtenby:RickRiordan     |\n",
      "|Writtenby:MaryPopeOsborne |\n",
      "|Writtenby:MaryPopeOsborne |\n",
      "|Writtenby:RickRiordan     |\n",
      "|Writtenby:PhilipPullman   |\n",
      "|Writtenby:GeronimoStilton |\n",
      "|Writtenby:MaryPopeOsborne |\n",
      "|Writtenby:ShannonMessenger|\n",
      "|Writtenby:MaryPopeOsborne |\n",
      "|Writtenby:ShannonMessenger|\n",
      "+--------------------------+\n",
      "only showing top 20 rows\n",
      "\n"
     ]
    }
   ],
   "source": [
    "df.select(\"author\").show(truncate = False)"
   ]
  },
  {
   "cell_type": "code",
   "execution_count": 107,
   "id": "623d4b37-aa9a-4146-bd7a-9131cbf7f366",
   "metadata": {},
   "outputs": [
    {
     "name": "stdout",
     "output_type": "stream",
     "text": [
      "+----------------------------------------------------+\n",
      "|authors                                             |\n",
      "+----------------------------------------------------+\n",
      "|CarolynKeene                                        |\n",
      "|Mattel,RaquelLuqueBenítez-traductor                 |\n",
      "|JulieKirchhubel                                     |\n",
      "|MarieBuckingham                                     |\n",
      "|EllieMattes                                         |\n",
      "|MarthaE.Rustad                                      |\n",
      "|KatjaBrandis                                        |\n",
      "|PankajaSrinivasan                                   |\n",
      "|MadelineDonaldson                                   |\n",
      "|AliceFleming                                        |\n",
      "|NancyGolden                                         |\n",
      "|J.R.Edmondson                                       |\n",
      "|PaulRink                                            |\n",
      "|PierreBerton                                        |\n",
      "|GailSaunders-Smith,KellyBoswell,MarthaE.H.Rustad    |\n",
      "|ChristopherLloyd                                    |\n",
      "|AsMileUmaNoites,MonteiroLobato                      |\n",
      "|RaimonSamsó                                         |\n",
      "|KarineDupont-Belrhali,FlorenceLanglois,NatachaFabry,|\n",
      "|WilliamH.H.Murray                                   |\n",
      "+----------------------------------------------------+\n",
      "only showing top 20 rows\n",
      "\n"
     ]
    }
   ],
   "source": [
    "df.withColumn(\"authors\", regexp_extract(col(\"author\"), r\"Writtenby:(.+)\",1)).select(\"authors\").distinct().show(truncate = False)"
   ]
  },
  {
   "cell_type": "code",
   "execution_count": 108,
   "id": "336ce6ec-5eaf-4777-b8b4-84d56cc9c956",
   "metadata": {},
   "outputs": [
    {
     "name": "stdout",
     "output_type": "stream",
     "text": [
      "+--------------------+--------------------+--------+------+-------------+---------------+-------+-----------+----------------+\n",
      "|                name|            narrator|language|prices|time(in mins)|stars(out of 5)|ratings|date_format|         authors|\n",
      "+--------------------+--------------------+--------+------+-------------+---------------+-------+-----------+----------------+\n",
      "|Geronimo Stilton ...|Narratedby:BillLo...| English| 468.0|          140|            5.0|     34| 2008-08-04| GeronimoStilton|\n",
      "|    The Burning Maze|Narratedby:Robbie...| English| 820.0|          788|            4.5|     41| 2018-05-01|     RickRiordan|\n",
      "|        The Deep End|Narratedby:DanRus...| English| 410.0|          123|            4.5|     38| 2020-11-06|      JeffKinney|\n",
      "|Daughter of the Deep|Narratedby:Soneel...| English| 615.0|          676|            4.5|     12| 2021-10-05|     RickRiordan|\n",
      "|The Lightning Thi...|Narratedby:JesseB...| English| 820.0|          600|            4.5|    181| 2010-01-13|     RickRiordan|\n",
      "|The Hunger Games:...|Narratedby:Tatian...| English| 656.0|          635|            5.0|     72| 2018-10-30|  SuzanneCollins|\n",
      "|Quest for the Dia...|Narratedby:LukeDa...| English| 233.0|          143|            5.0|     11| 2014-11-25|    WinterMorgan|\n",
      "|   The Dark Prophecy|Narratedby:Robbie...| English| 820.0|          752|            5.0|     50| 2017-05-02|     RickRiordan|\n",
      "|Merlin Mission Co...|Narratedby:MaryPo...| English|1256.0|          656|            5.0|      5| 2017-05-02| MaryPopeOsborne|\n",
      "|   The Tyrant’s Tomb|Narratedby:Robbie...| English| 820.0|          802|            5.0|     58| 2019-09-24|     RickRiordan|\n",
      "|The Titan's Curse...|Narratedby:JesseB...| English| 820.0|          528|            4.5|    130| 2010-01-14|     RickRiordan|\n",
      "|Magic Tree House ...|Narratedby:MaryPo...| English|1206.0|          323|            5.0|      6| 2011-08-24| MaryPopeOsborne|\n",
      "|Magic Tree House ...|Narratedby:MaryPo...| English|1206.0|          361|            5.0|      7| 2011-09-27| MaryPopeOsborne|\n",
      "|Magnus Chase and ...|Narratedby:Michae...| English| 820.0|          778|            5.0|     41| 2017-10-03|     RickRiordan|\n",
      "|     Northern Lights|Narratedby:Philip...| English|1093.0|          715|            4.0|      2| 2021-06-24|   PhilipPullman|\n",
      "|Geronimo Stilton ...|Narratedby:BillLo...| English| 467.0|          145|            4.5|     33| 2008-02-08| GeronimoStilton|\n",
      "|Magic Tree House ...|Narratedby:MaryPo...| English|1206.0|          304|            5.0|      7| 2004-12-26| MaryPopeOsborne|\n",
      "|               Exile|Narratedby:Caitli...| English| 836.0|          881|            5.0|     20| 2018-11-06|ShannonMessenger|\n",
      "|Merlin Mission Co...|Narratedby:MaryPo...| English|1256.0|          618|            5.0|     11| 2017-05-02| MaryPopeOsborne|\n",
      "|           Neverseen|Narratedby:Caitli...| English|1003.0|         1002|            5.0|     13| 2018-11-06|ShannonMessenger|\n",
      "+--------------------+--------------------+--------+------+-------------+---------------+-------+-----------+----------------+\n",
      "only showing top 20 rows\n",
      "\n"
     ]
    }
   ],
   "source": [
    "df = df.withColumn(\"authors\", regexp_extract(col(\"author\"), r\"Writtenby:(.+)\",1)).drop(\"author\")\n",
    "df.show()"
   ]
  },
  {
   "cell_type": "code",
   "execution_count": 109,
   "id": "f1e5bd23-3981-4dbd-95ed-140684c10ceb",
   "metadata": {},
   "outputs": [
    {
     "name": "stdout",
     "output_type": "stream",
     "text": [
      "+--------------------------------------------------------+\n",
      "|narrator                                                |\n",
      "+--------------------------------------------------------+\n",
      "|Narratedby:JamesMurray,KirbyHeyborne,InésdelCastillo,   |\n",
      "|Narratedby:AnnMarieLee                                  |\n",
      "|Narratedby:HughDennis                                   |\n",
      "|Narratedby:PatriciaSantomasso                           |\n",
      "|Narratedby:JennaLamia,AnnPatchett,KateDiCamillo         |\n",
      "|Narratedby:JasonZenobia                                 |\n",
      "|Narratedby:CynthiaHolloway                              |\n",
      "|Narratedby:ElenaSoprano,RobertFestinger,AlessandroCerino|\n",
      "|Narratedby:AndyHagel                                    |\n",
      "|Narratedby:JanZiff                                      |\n",
      "|Narratedby:GerlindeJänicke                              |\n",
      "|Narratedby:MarkusKästle                                 |\n",
      "|Narratedby:EugeneH.Peterson                             |\n",
      "|Narratedby:AnnaSchudt                                   |\n",
      "|Narratedby:BenediktWeber                                |\n",
      "|Narratedby:UtaKrömer                                    |\n",
      "|Narratedby:SteveWojtas                                  |\n",
      "|Narratedby:OliverLuckett                                |\n",
      "|Narratedby:RachelPerry                                  |\n",
      "|Narratedby:水口まつり                                   |\n",
      "+--------------------------------------------------------+\n",
      "only showing top 20 rows\n",
      "\n"
     ]
    }
   ],
   "source": [
    "#extract the names of the narrators \n",
    "df.select(\"narrator\").distinct().show(truncate=False)"
   ]
  },
  {
   "cell_type": "code",
   "execution_count": 110,
   "id": "3149d2f5-3146-4076-b547-f16beb17f3b3",
   "metadata": {},
   "outputs": [
    {
     "name": "stdout",
     "output_type": "stream",
     "text": [
      "+----+--------+--------+------+-------------+---------------+-------+-----------+-------+\n",
      "|name|narrator|language|prices|time(in mins)|stars(out of 5)|ratings|date_format|authors|\n",
      "+----+--------+--------+------+-------------+---------------+-------+-----------+-------+\n",
      "+----+--------+--------+------+-------------+---------------+-------+-----------+-------+\n",
      "\n"
     ]
    }
   ],
   "source": [
    "df.filter(col(\"narrator\")==\"NULL\").show(truncate=False)"
   ]
  },
  {
   "cell_type": "code",
   "execution_count": 111,
   "id": "6810c3a4-700b-4d71-bf98-a83df3d75306",
   "metadata": {},
   "outputs": [
    {
     "name": "stdout",
     "output_type": "stream",
     "text": [
      "+--------------------------------------------+\n",
      "|narrators                                   |\n",
      "+--------------------------------------------+\n",
      "|JohannesSteck                               |\n",
      "|NeilPatrickHarris,AliStroker                |\n",
      "|CarolineTurnerCole                          |\n",
      "|NomaDumezweni                               |\n",
      "|JonathanS.                                  |\n",
      "|KlausBondam                                 |\n",
      "|RobbieDaymond,ToddHaberkorn,JohnH.Mayer,    |\n",
      "|OliverWyman,Various                         |\n",
      "|CheriseBoothe                               |\n",
      "|ChristopherLloyd                            |\n",
      "|CarlosZertuche,CristinaTenorio,AlondraGarcía|\n",
      "|BarbierCarole,L.Barbier,ChloéCardinaud,     |\n",
      "|ElizaFoss                                   |\n",
      "|JörgSchneider,InesTorelli,PaulBühlmann      |\n",
      "|田中嶋健司,握☆飯太郎,桜木信介               |\n",
      "|MirronWillis,AllysonJohnson                 |\n",
      "|GemmaChan                                   |\n",
      "|PollyAdams,CassandraMorris                  |\n",
      "|SusanBennet                                 |\n",
      "|ErikSandvold                                |\n",
      "+--------------------------------------------+\n",
      "only showing top 20 rows\n",
      "\n"
     ]
    }
   ],
   "source": [
    "df.withColumn(\"narrators\", regexp_extract(col(\"narrator\"), r\"Narratedby:(.+)\",1)).select(\"narrators\").distinct().show(truncate=False)"
   ]
  },
  {
   "cell_type": "code",
   "execution_count": 112,
   "id": "46f3d6e0-5c4a-4ebc-96ac-8f72a38c6a00",
   "metadata": {},
   "outputs": [
    {
     "name": "stdout",
     "output_type": "stream",
     "text": [
      "root\n",
      " |-- name: string (nullable = true)\n",
      " |-- narrator: string (nullable = true)\n",
      " |-- language: string (nullable = true)\n",
      " |-- prices: float (nullable = true)\n",
      " |-- time(in mins): integer (nullable = true)\n",
      " |-- stars(out of 5): float (nullable = true)\n",
      " |-- ratings: integer (nullable = true)\n",
      " |-- date_format: date (nullable = true)\n",
      " |-- authors: string (nullable = true)\n",
      " |-- narrators: string (nullable = true)\n",
      "\n"
     ]
    }
   ],
   "source": [
    "df = df.withColumn(\"narrators\", regexp_extract(col(\"narrator\"), r\"Narratedby:(.+)\",1))\n",
    "df.printSchema()"
   ]
  },
  {
   "cell_type": "code",
   "execution_count": 113,
   "id": "26ea995f-c1e2-4b64-93cb-c694d1fae5db",
   "metadata": {},
   "outputs": [
    {
     "name": "stdout",
     "output_type": "stream",
     "text": [
      "+--------------------+--------+------+-------------+---------------+-------+-----------+----------------+--------------------+\n",
      "|                name|language|prices|time(in mins)|stars(out of 5)|ratings|date_format|         authors|           narrators|\n",
      "+--------------------+--------+------+-------------+---------------+-------+-----------+----------------+--------------------+\n",
      "|Geronimo Stilton ...| English| 468.0|          140|            5.0|     34| 2008-08-04| GeronimoStilton|          BillLobely|\n",
      "|    The Burning Maze| English| 820.0|          788|            4.5|     41| 2018-05-01|     RickRiordan|       RobbieDaymond|\n",
      "|        The Deep End| English| 410.0|          123|            4.5|     38| 2020-11-06|      JeffKinney|          DanRussell|\n",
      "|Daughter of the Deep| English| 615.0|          676|            4.5|     12| 2021-10-05|     RickRiordan|      SoneelaNankani|\n",
      "|The Lightning Thi...| English| 820.0|          600|            4.5|    181| 2010-01-13|     RickRiordan|      JesseBernstein|\n",
      "|The Hunger Games:...| English| 656.0|          635|            5.0|     72| 2018-10-30|  SuzanneCollins|      TatianaMaslany|\n",
      "|Quest for the Dia...| English| 233.0|          143|            5.0|     11| 2014-11-25|    WinterMorgan|         LukeDaniels|\n",
      "|   The Dark Prophecy| English| 820.0|          752|            5.0|     50| 2017-05-02|     RickRiordan|       RobbieDaymond|\n",
      "|Merlin Mission Co...| English|1256.0|          656|            5.0|      5| 2017-05-02| MaryPopeOsborne|     MaryPopeOsborne|\n",
      "|   The Tyrant’s Tomb| English| 820.0|          802|            5.0|     58| 2019-09-24|     RickRiordan|       RobbieDaymond|\n",
      "|The Titan's Curse...| English| 820.0|          528|            4.5|    130| 2010-01-14|     RickRiordan|      JesseBernstein|\n",
      "|Magic Tree House ...| English|1206.0|          323|            5.0|      6| 2011-08-24| MaryPopeOsborne|     MaryPopeOsborne|\n",
      "|Magic Tree House ...| English|1206.0|          361|            5.0|      7| 2011-09-27| MaryPopeOsborne|     MaryPopeOsborne|\n",
      "|Magnus Chase and ...| English| 820.0|          778|            5.0|     41| 2017-10-03|     RickRiordan|       MichaelCrouch|\n",
      "|     Northern Lights| English|1093.0|          715|            4.0|      2| 2021-06-24|   PhilipPullman|PhilipPullman,ful...|\n",
      "|Geronimo Stilton ...| English| 467.0|          145|            4.5|     33| 2008-02-08| GeronimoStilton|          BillLobley|\n",
      "|Magic Tree House ...| English|1206.0|          304|            5.0|      7| 2004-12-26| MaryPopeOsborne|     MaryPopeOsborne|\n",
      "|               Exile| English| 836.0|          881|            5.0|     20| 2018-11-06|ShannonMessenger|        CaitlinKelly|\n",
      "|Merlin Mission Co...| English|1256.0|          618|            5.0|     11| 2017-05-02| MaryPopeOsborne|     MaryPopeOsborne|\n",
      "|           Neverseen| English|1003.0|         1002|            5.0|     13| 2018-11-06|ShannonMessenger|        CaitlinKelly|\n",
      "+--------------------+--------+------+-------------+---------------+-------+-----------+----------------+--------------------+\n",
      "only showing top 20 rows\n",
      "\n"
     ]
    }
   ],
   "source": [
    "df = df.drop(\"narrator\")\n",
    "df.show()"
   ]
  },
  {
   "cell_type": "code",
   "execution_count": 114,
   "id": "27966b7f-433a-48cd-91de-f9469072bdb6",
   "metadata": {},
   "outputs": [
    {
     "name": "stdout",
     "output_type": "stream",
     "text": [
      "+------------------------------------------+\n",
      "|name                                      |\n",
      "+------------------------------------------+\n",
      "|Geronimo Stilton #11 & #12                |\n",
      "|The Burning Maze                          |\n",
      "|The Deep End                              |\n",
      "|Daughter of the Deep                      |\n",
      "|The Lightning Thief: Percy Jackson, Book 1|\n",
      "|The Hunger Games: Special Edition         |\n",
      "|Quest for the Diamond Sword               |\n",
      "|The Dark Prophecy                         |\n",
      "|Merlin Mission Collection                 |\n",
      "|The Tyrant’s Tomb                         |\n",
      "|The Titan's Curse: Percy Jackson, Book 3  |\n",
      "|Magic Tree House Collection: Books 9-16   |\n",
      "|Magic Tree House Collection: Books 1-8    |\n",
      "|Magnus Chase and the Ship of the Dead     |\n",
      "|Northern Lights                           |\n",
      "|Geronimo Stilton #13 and #14              |\n",
      "|Magic Tree House Collection               |\n",
      "|Exile                                     |\n",
      "|Merlin Mission Collection                 |\n",
      "|Neverseen                                 |\n",
      "+------------------------------------------+\n",
      "only showing top 20 rows\n",
      "\n"
     ]
    }
   ],
   "source": [
    "df.select(\"name\").show(truncate=False)"
   ]
  },
  {
   "cell_type": "code",
   "execution_count": 115,
   "id": "84975f62-fffe-4537-a329-b61bcc853460",
   "metadata": {},
   "outputs": [
    {
     "name": "stdout",
     "output_type": "stream",
     "text": [
      "+--------------------+--------+------+-------------+---------------+-------+-----------+----------------+--------------------+\n",
      "|                name|language|prices|time(in mins)|stars(out of 5)|ratings|date_format|         authors|           narrators|\n",
      "+--------------------+--------+------+-------------+---------------+-------+-----------+----------------+--------------------+\n",
      "|Geronimo Stilton ...| English| 468.0|          140|            5.0|     34| 2008-08-04| GeronimoStilton|          BillLobely|\n",
      "|    The Burning Maze| English| 820.0|          788|            4.5|     41| 2018-05-01|     RickRiordan|       RobbieDaymond|\n",
      "|        The Deep End| English| 410.0|          123|            4.5|     38| 2020-11-06|      JeffKinney|          DanRussell|\n",
      "|Daughter of the Deep| English| 615.0|          676|            4.5|     12| 2021-10-05|     RickRiordan|      SoneelaNankani|\n",
      "|The Lightning Thi...| English| 820.0|          600|            4.5|    181| 2010-01-13|     RickRiordan|      JesseBernstein|\n",
      "|The Hunger Games:...| English| 656.0|          635|            5.0|     72| 2018-10-30|  SuzanneCollins|      TatianaMaslany|\n",
      "|Quest for the Dia...| English| 233.0|          143|            5.0|     11| 2014-11-25|    WinterMorgan|         LukeDaniels|\n",
      "|   The Dark Prophecy| English| 820.0|          752|            5.0|     50| 2017-05-02|     RickRiordan|       RobbieDaymond|\n",
      "|Merlin Mission Co...| English|1256.0|          656|            5.0|      5| 2017-05-02| MaryPopeOsborne|     MaryPopeOsborne|\n",
      "|   The Tyrant’s Tomb| English| 820.0|          802|            5.0|     58| 2019-09-24|     RickRiordan|       RobbieDaymond|\n",
      "|The Titan's Curse...| English| 820.0|          528|            4.5|    130| 2010-01-14|     RickRiordan|      JesseBernstein|\n",
      "|Magic Tree House ...| English|1206.0|          323|            5.0|      6| 2011-08-24| MaryPopeOsborne|     MaryPopeOsborne|\n",
      "|Magic Tree House ...| English|1206.0|          361|            5.0|      7| 2011-09-27| MaryPopeOsborne|     MaryPopeOsborne|\n",
      "|Magnus Chase and ...| English| 820.0|          778|            5.0|     41| 2017-10-03|     RickRiordan|       MichaelCrouch|\n",
      "|     Northern Lights| English|1093.0|          715|            4.0|      2| 2021-06-24|   PhilipPullman|PhilipPullman,ful...|\n",
      "|Geronimo Stilton ...| English| 467.0|          145|            4.5|     33| 2008-02-08| GeronimoStilton|          BillLobley|\n",
      "|Magic Tree House ...| English|1206.0|          304|            5.0|      7| 2004-12-26| MaryPopeOsborne|     MaryPopeOsborne|\n",
      "|               Exile| English| 836.0|          881|            5.0|     20| 2018-11-06|ShannonMessenger|        CaitlinKelly|\n",
      "|Merlin Mission Co...| English|1256.0|          618|            5.0|     11| 2017-05-02| MaryPopeOsborne|     MaryPopeOsborne|\n",
      "|           Neverseen| English|1003.0|         1002|            5.0|     13| 2018-11-06|ShannonMessenger|        CaitlinKelly|\n",
      "+--------------------+--------+------+-------------+---------------+-------+-----------+----------------+--------------------+\n",
      "only showing top 20 rows\n",
      "\n"
     ]
    }
   ],
   "source": [
    "df.show()"
   ]
  },
  {
   "cell_type": "code",
   "execution_count": 116,
   "id": "6a18af6a-3f79-4806-a5f6-86ee29b7c623",
   "metadata": {},
   "outputs": [
    {
     "name": "stdout",
     "output_type": "stream",
     "text": [
      "root\n",
      " |-- name: string (nullable = true)\n",
      " |-- language: string (nullable = true)\n",
      " |-- prices: float (nullable = true)\n",
      " |-- time(in mins): integer (nullable = true)\n",
      " |-- stars(out of 5): float (nullable = true)\n",
      " |-- ratings: integer (nullable = true)\n",
      " |-- date_format: date (nullable = true)\n",
      " |-- authors: string (nullable = true)\n",
      " |-- narrators: string (nullable = true)\n",
      "\n"
     ]
    }
   ],
   "source": [
    "df.printSchema()"
   ]
  },
  {
   "cell_type": "code",
   "execution_count": 117,
   "id": "41880c42-6f50-47e4-851b-e880778e0c8a",
   "metadata": {},
   "outputs": [],
   "source": [
    "df_clean = df"
   ]
  },
  {
   "cell_type": "code",
   "execution_count": 118,
   "id": "20cf5d4a-eb17-493b-92b1-2599eac483b5",
   "metadata": {},
   "outputs": [
    {
     "name": "stdout",
     "output_type": "stream",
     "text": [
      "+-------------------------------------------+--------+------+-------------+---------------+-------+-----------+---------------+-------------+\n",
      "|name                                       |language|prices|time(in mins)|stars(out of 5)|ratings|date_format|authors        |narrators    |\n",
      "+-------------------------------------------+--------+------+-------------+---------------+-------+-----------+---------------+-------------+\n",
      "|The Chromatics Camp at The Musical Mountain|English |469.0 |165          |NULL           |NULL   |2022-01-03 |JulieKirchhubel|DanielSmerdon|\n",
      "+-------------------------------------------+--------+------+-------------+---------------+-------+-----------+---------------+-------------+\n",
      "\n"
     ]
    }
   ],
   "source": [
    "df.filter(col(\"authors\")==\"JulieKirchhubel\").show(truncate=False)"
   ]
  },
  {
   "cell_type": "code",
   "execution_count": 119,
   "id": "4e007508-540c-479c-b0db-545244c06990",
   "metadata": {},
   "outputs": [
    {
     "name": "stdout",
     "output_type": "stream",
     "text": [
      "+--------------------+------------+\n",
      "|             authors|sum(ratings)|\n",
      "+--------------------+------------+\n",
      "|        CarolynKeene|         194|\n",
      "|Mattel,RaquelLuqu...|        NULL|\n",
      "|     JulieKirchhubel|        NULL|\n",
      "|     MarieBuckingham|        NULL|\n",
      "|         EllieMattes|        NULL|\n",
      "|      MarthaE.Rustad|        NULL|\n",
      "|        KatjaBrandis|        NULL|\n",
      "|   PankajaSrinivasan|           2|\n",
      "|   MadelineDonaldson|        NULL|\n",
      "|        AliceFleming|        NULL|\n",
      "|         NancyGolden|        NULL|\n",
      "|       J.R.Edmondson|        NULL|\n",
      "|            PaulRink|        NULL|\n",
      "|        PierreBerton|        NULL|\n",
      "|GailSaunders-Smit...|        NULL|\n",
      "|    ChristopherLloyd|        NULL|\n",
      "|AsMileUmaNoites,M...|        NULL|\n",
      "|         RaimonSamsó|        NULL|\n",
      "|KarineDupont-Belr...|        NULL|\n",
      "|   WilliamH.H.Murray|        NULL|\n",
      "+--------------------+------------+\n",
      "only showing top 20 rows\n",
      "\n"
     ]
    }
   ],
   "source": [
    "df.groupBy(\"authors\").agg(sum(\"ratings\")).show()"
   ]
  },
  {
   "cell_type": "code",
   "execution_count": 120,
   "id": "65c50c96-301c-4fa7-bf80-62fe893606bd",
   "metadata": {},
   "outputs": [
    {
     "name": "stdout",
     "output_type": "stream",
     "text": [
      "+------+-------+---------------+\n",
      "|prices|ratings|stars(out of 5)|\n",
      "+------+-------+---------------+\n",
      "| false|  false|          false|\n",
      "| false|  false|          false|\n",
      "| false|  false|          false|\n",
      "| false|  false|          false|\n",
      "| false|  false|          false|\n",
      "| false|  false|          false|\n",
      "| false|  false|          false|\n",
      "| false|  false|          false|\n",
      "| false|  false|          false|\n",
      "| false|  false|          false|\n",
      "| false|  false|          false|\n",
      "| false|  false|          false|\n",
      "| false|  false|          false|\n",
      "| false|  false|          false|\n",
      "| false|  false|          false|\n",
      "| false|  false|          false|\n",
      "| false|  false|          false|\n",
      "| false|  false|          false|\n",
      "| false|  false|          false|\n",
      "| false|  false|          false|\n",
      "+------+-------+---------------+\n",
      "only showing top 20 rows\n",
      "\n"
     ]
    }
   ],
   "source": [
    "df.select([col(c).isNull().alias(c) for c in [\"prices\",\"ratings\",\"stars(out of 5)\"]]).show()"
   ]
  },
  {
   "cell_type": "code",
   "execution_count": 125,
   "id": "1905a841-b578-4e32-83cf-d0ce59f946d6",
   "metadata": {},
   "outputs": [
    {
     "name": "stdout",
     "output_type": "stream",
     "text": [
      "+--------------------+--------+------+-------------+---------------+-------+-----------+----------------+--------------------+\n",
      "|                name|language|prices|time(in mins)|stars(out of 5)|ratings|date_format|         authors|           narrators|\n",
      "+--------------------+--------+------+-------------+---------------+-------+-----------+----------------+--------------------+\n",
      "|Geronimo Stilton ...| English| 468.0|          140|            5.0|     34| 2008-08-04| GeronimoStilton|          BillLobely|\n",
      "|    The Burning Maze| English| 820.0|          788|            4.5|     41| 2018-05-01|     RickRiordan|       RobbieDaymond|\n",
      "|        The Deep End| English| 410.0|          123|            4.5|     38| 2020-11-06|      JeffKinney|          DanRussell|\n",
      "|Daughter of the Deep| English| 615.0|          676|            4.5|     12| 2021-10-05|     RickRiordan|      SoneelaNankani|\n",
      "|The Lightning Thi...| English| 820.0|          600|            4.5|    181| 2010-01-13|     RickRiordan|      JesseBernstein|\n",
      "|The Hunger Games:...| English| 656.0|          635|            5.0|     72| 2018-10-30|  SuzanneCollins|      TatianaMaslany|\n",
      "|Quest for the Dia...| English| 233.0|          143|            5.0|     11| 2014-11-25|    WinterMorgan|         LukeDaniels|\n",
      "|   The Dark Prophecy| English| 820.0|          752|            5.0|     50| 2017-05-02|     RickRiordan|       RobbieDaymond|\n",
      "|Merlin Mission Co...| English|1256.0|          656|            5.0|      5| 2017-05-02| MaryPopeOsborne|     MaryPopeOsborne|\n",
      "|   The Tyrant’s Tomb| English| 820.0|          802|            5.0|     58| 2019-09-24|     RickRiordan|       RobbieDaymond|\n",
      "|The Titan's Curse...| English| 820.0|          528|            4.5|    130| 2010-01-14|     RickRiordan|      JesseBernstein|\n",
      "|Magic Tree House ...| English|1206.0|          323|            5.0|      6| 2011-08-24| MaryPopeOsborne|     MaryPopeOsborne|\n",
      "|Magic Tree House ...| English|1206.0|          361|            5.0|      7| 2011-09-27| MaryPopeOsborne|     MaryPopeOsborne|\n",
      "|Magnus Chase and ...| English| 820.0|          778|            5.0|     41| 2017-10-03|     RickRiordan|       MichaelCrouch|\n",
      "|     Northern Lights| English|1093.0|          715|            4.0|      2| 2021-06-24|   PhilipPullman|PhilipPullman,ful...|\n",
      "|Geronimo Stilton ...| English| 467.0|          145|            4.5|     33| 2008-02-08| GeronimoStilton|          BillLobley|\n",
      "|Magic Tree House ...| English|1206.0|          304|            5.0|      7| 2004-12-26| MaryPopeOsborne|     MaryPopeOsborne|\n",
      "|               Exile| English| 836.0|          881|            5.0|     20| 2018-11-06|ShannonMessenger|        CaitlinKelly|\n",
      "|Merlin Mission Co...| English|1256.0|          618|            5.0|     11| 2017-05-02| MaryPopeOsborne|     MaryPopeOsborne|\n",
      "|           Neverseen| English|1003.0|         1002|            5.0|     13| 2018-11-06|ShannonMessenger|        CaitlinKelly|\n",
      "+--------------------+--------+------+-------------+---------------+-------+-----------+----------------+--------------------+\n",
      "only showing top 20 rows\n",
      "\n"
     ]
    }
   ],
   "source": [
    "#handled null values\n",
    "df = df.na.fill(value=0, subset=[\"stars(out of 5)\",\"ratings\",\"prices\"])\n",
    "df.show()"
   ]
  },
  {
   "cell_type": "code",
   "execution_count": 127,
   "id": "511ab948-b33a-4d3d-8e90-ff246a39ce9b",
   "metadata": {},
   "outputs": [
    {
     "name": "stdout",
     "output_type": "stream",
     "text": [
      "+--------------------+--------+------+-------------+---------------+-------+-----------+---------------+-------------+\n",
      "|                name|language|prices|time(in mins)|stars(out of 5)|ratings|date_format|        authors|    narrators|\n",
      "+--------------------+--------+------+-------------+---------------+-------+-----------+---------------+-------------+\n",
      "|The Chromatics Ca...| English| 469.0|          165|            0.0|      0| 2022-01-03|JulieKirchhubel|DanielSmerdon|\n",
      "+--------------------+--------+------+-------------+---------------+-------+-----------+---------------+-------------+\n",
      "\n"
     ]
    }
   ],
   "source": [
    "df.filter(col(\"authors\")==\"JulieKirchhubel\").show()"
   ]
  },
  {
   "cell_type": "code",
   "execution_count": 136,
   "id": "346ce0f5-a6b5-43a2-887d-77755e8d128a",
   "metadata": {},
   "outputs": [
    {
     "name": "stdout",
     "output_type": "stream",
     "text": [
      "+--------------------+------------+\n",
      "|             authors|sum(ratings)|\n",
      "+--------------------+------------+\n",
      "|         J.K.Rowling|        5362|\n",
      "|         ChrisBailey|        2872|\n",
      "|         RobinSharma|        2829|\n",
      "|    RobertT.Kiyosaki|        2264|\n",
      "|    DevduttPattanaik|        2094|\n",
      "|        MorganHousel|        1945|\n",
      "|EricJorgenson,Tim...|        1714|\n",
      "|APJAbdulKalam,Aru...|        1650|\n",
      "|       JeffreyArcher|        1578|\n",
      "|          StephenFry|        1576|\n",
      "|     YuvalNoahHarari|        1531|\n",
      "|               Kalki|        1486|\n",
      "|         RickRiordan|        1480|\n",
      "|          BrianTracy|        1425|\n",
      "|            AndyWeir|        1392|\n",
      "|          MelRobbins|        1362|\n",
      "|        JosephMurphy|        1314|\n",
      "|        TaraWestover|        1295|\n",
      "|        DaleCarnegie|        1258|\n",
      "|         DarrenHardy|        1238|\n",
      "+--------------------+------------+\n",
      "only showing top 20 rows\n",
      "\n"
     ]
    }
   ],
   "source": [
    "df.groupBy(\"authors\").agg(sum(\"ratings\")).sort(\"sum(ratings)\",ascending=False).show()"
   ]
  },
  {
   "cell_type": "code",
   "execution_count": null,
   "id": "bd423897-52b2-4708-9571-0e675c0f739b",
   "metadata": {},
   "outputs": [],
   "source": []
  }
 ],
 "metadata": {
  "kernelspec": {
   "display_name": "Python 3 (ipykernel)",
   "language": "python",
   "name": "python3"
  },
  "language_info": {
   "codemirror_mode": {
    "name": "ipython",
    "version": 3
   },
   "file_extension": ".py",
   "mimetype": "text/x-python",
   "name": "python",
   "nbconvert_exporter": "python",
   "pygments_lexer": "ipython3",
   "version": "3.12.3"
  }
 },
 "nbformat": 4,
 "nbformat_minor": 5
}

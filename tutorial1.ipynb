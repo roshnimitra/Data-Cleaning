{
 "cells": [
  {
   "cell_type": "code",
   "execution_count": 1,
   "id": "d1e36745-a1fe-4c3e-80a4-da43c71f5eff",
   "metadata": {
    "scrolled": true
   },
   "outputs": [
    {
     "name": "stderr",
     "output_type": "stream",
     "text": [
      "25/01/15 08:32:46 WARN Utils: Your hostname, LAPTOP-1N0V5I9A resolves to a loopback address: 127.0.1.1; using 10.255.255.254 instead (on interface lo)\n",
      "25/01/15 08:32:46 WARN Utils: Set SPARK_LOCAL_IP if you need to bind to another address\n",
      "Setting default log level to \"WARN\".\n",
      "To adjust logging level use sc.setLogLevel(newLevel). For SparkR, use setLogLevel(newLevel).\n",
      "25/01/15 08:32:47 WARN NativeCodeLoader: Unable to load native-hadoop library for your platform... using builtin-java classes where applicable\n"
     ]
    }
   ],
   "source": [
    "from pyspark.sql import SparkSession\n",
    "\n",
    "spark = SparkSession.builder.getOrCreate()"
   ]
  },
  {
   "cell_type": "code",
   "execution_count": 2,
   "id": "7cdafe87-adf0-4818-b3e7-972375493a23",
   "metadata": {},
   "outputs": [],
   "source": [
    "data1 = [('1','kad'),\n",
    "        ('2','sid')]\n",
    "schema1 = 'id STRING, name STRING' \n",
    "\n",
    "df= spark.createDataFrame(data1,schema1)"
   ]
  },
  {
   "cell_type": "code",
   "execution_count": 3,
   "id": "e3a9a9f6-d111-4216-bdce-3c0daecc4c74",
   "metadata": {},
   "outputs": [
    {
     "name": "stderr",
     "output_type": "stream",
     "text": [
      "                                                                                "
     ]
    },
    {
     "name": "stdout",
     "output_type": "stream",
     "text": [
      "+---+----+\n",
      "| id|name|\n",
      "+---+----+\n",
      "|  1| kad|\n",
      "|  2| sid|\n",
      "+---+----+\n",
      "\n"
     ]
    }
   ],
   "source": [
    "df.show()"
   ]
  },
  {
   "cell_type": "markdown",
   "id": "4f1badb8-c3b4-406a-a064-8bb9c8b8818d",
   "metadata": {},
   "source": [
    "# Data Reading "
   ]
  },
  {
   "cell_type": "code",
   "execution_count": 13,
   "id": "c36b6ea9-70c2-4369-b442-05ac8daef0af",
   "metadata": {},
   "outputs": [],
   "source": [
    "df = spark.read.option('header', True).csv('BigMart Sales.csv', inferSchema = True)"
   ]
  },
  {
   "cell_type": "code",
   "execution_count": 14,
   "id": "dd627a57-e587-45db-a7bd-d1523d73d2bd",
   "metadata": {},
   "outputs": [
    {
     "name": "stdout",
     "output_type": "stream",
     "text": [
      "+---------------+-----------+----------------+---------------+--------------------+--------+-----------------+-------------------------+-----------+--------------------+-----------------+-----------------+\n",
      "|Item_Identifier|Item_Weight|Item_Fat_Content|Item_Visibility|           Item_Type|Item_MRP|Outlet_Identifier|Outlet_Establishment_Year|Outlet_Size|Outlet_Location_Type|      Outlet_Type|Item_Outlet_Sales|\n",
      "+---------------+-----------+----------------+---------------+--------------------+--------+-----------------+-------------------------+-----------+--------------------+-----------------+-----------------+\n",
      "|          FDA15|        9.3|         Low Fat|    0.016047301|               Dairy|249.8092|           OUT049|                     1999|     Medium|              Tier 1|Supermarket Type1|         3735.138|\n",
      "|          DRC01|       5.92|         Regular|    0.019278216|         Soft Drinks| 48.2692|           OUT018|                     2009|     Medium|              Tier 3|Supermarket Type2|         443.4228|\n",
      "|          FDN15|       17.5|         Low Fat|    0.016760075|                Meat| 141.618|           OUT049|                     1999|     Medium|              Tier 1|Supermarket Type1|          2097.27|\n",
      "|          FDX07|       19.2|         Regular|            0.0|Fruits and Vegeta...| 182.095|           OUT010|                     1998|       NULL|              Tier 3|    Grocery Store|           732.38|\n",
      "+---------------+-----------+----------------+---------------+--------------------+--------+-----------------+-------------------------+-----------+--------------------+-----------------+-----------------+\n",
      "only showing top 4 rows\n",
      "\n"
     ]
    }
   ],
   "source": [
    "df.show(4)"
   ]
  },
  {
   "cell_type": "code",
   "execution_count": 15,
   "id": "49f63861-ab56-4adb-8f29-9adbf184a061",
   "metadata": {},
   "outputs": [
    {
     "name": "stdout",
     "output_type": "stream",
     "text": [
      "root\n",
      " |-- Item_Identifier: string (nullable = true)\n",
      " |-- Item_Weight: double (nullable = true)\n",
      " |-- Item_Fat_Content: string (nullable = true)\n",
      " |-- Item_Visibility: double (nullable = true)\n",
      " |-- Item_Type: string (nullable = true)\n",
      " |-- Item_MRP: double (nullable = true)\n",
      " |-- Outlet_Identifier: string (nullable = true)\n",
      " |-- Outlet_Establishment_Year: integer (nullable = true)\n",
      " |-- Outlet_Size: string (nullable = true)\n",
      " |-- Outlet_Location_Type: string (nullable = true)\n",
      " |-- Outlet_Type: string (nullable = true)\n",
      " |-- Item_Outlet_Sales: double (nullable = true)\n",
      "\n"
     ]
    }
   ],
   "source": [
    "df.printSchema()"
   ]
  },
  {
   "cell_type": "code",
   "execution_count": 17,
   "id": "6e98cb02-7e35-451f-a964-689ab704005b",
   "metadata": {},
   "outputs": [
    {
     "data": {
      "text/plain": [
       "['Item_Identifier',\n",
       " 'Item_Weight',\n",
       " 'Item_Fat_Content',\n",
       " 'Item_Visibility',\n",
       " 'Item_Type',\n",
       " 'Item_MRP',\n",
       " 'Outlet_Identifier',\n",
       " 'Outlet_Establishment_Year',\n",
       " 'Outlet_Size',\n",
       " 'Outlet_Location_Type',\n",
       " 'Outlet_Type',\n",
       " 'Item_Outlet_Sales']"
      ]
     },
     "execution_count": 17,
     "metadata": {},
     "output_type": "execute_result"
    }
   ],
   "source": [
    "df.columns"
   ]
  },
  {
   "cell_type": "code",
   "execution_count": 18,
   "id": "f8c46b4f-523c-41d4-a882-7beb6e427415",
   "metadata": {},
   "outputs": [
    {
     "data": {
      "text/plain": [
       "[Row(Item_Identifier='FDA15', Item_Weight=9.3, Item_Fat_Content='Low Fat', Item_Visibility=0.016047301, Item_Type='Dairy', Item_MRP=249.8092, Outlet_Identifier='OUT049', Outlet_Establishment_Year=1999, Outlet_Size='Medium', Outlet_Location_Type='Tier 1', Outlet_Type='Supermarket Type1', Item_Outlet_Sales=3735.138),\n",
       " Row(Item_Identifier='DRC01', Item_Weight=5.92, Item_Fat_Content='Regular', Item_Visibility=0.019278216, Item_Type='Soft Drinks', Item_MRP=48.2692, Outlet_Identifier='OUT018', Outlet_Establishment_Year=2009, Outlet_Size='Medium', Outlet_Location_Type='Tier 3', Outlet_Type='Supermarket Type2', Item_Outlet_Sales=443.4228)]"
      ]
     },
     "execution_count": 18,
     "metadata": {},
     "output_type": "execute_result"
    }
   ],
   "source": [
    "df.head(2)"
   ]
  },
  {
   "cell_type": "markdown",
   "id": "a2fe8fb2-fee1-4f3d-9a5a-b5c761d5e413",
   "metadata": {},
   "source": [
    "# Data Transformations\n",
    "\n",
    "### SELECT"
   ]
  },
  {
   "cell_type": "code",
   "execution_count": 19,
   "id": "52e45a39-b3d6-48b2-b992-cd2cd2b74a4d",
   "metadata": {},
   "outputs": [
    {
     "name": "stdout",
     "output_type": "stream",
     "text": [
      "+--------+\n",
      "|Item_MRP|\n",
      "+--------+\n",
      "|249.8092|\n",
      "| 48.2692|\n",
      "| 141.618|\n",
      "| 182.095|\n",
      "+--------+\n",
      "only showing top 4 rows\n",
      "\n"
     ]
    }
   ],
   "source": [
    "df.select('Item_MRP').show(4)"
   ]
  },
  {
   "cell_type": "code",
   "execution_count": 21,
   "id": "1b10da91-babc-404a-9796-50fa6ebebcba",
   "metadata": {},
   "outputs": [
    {
     "name": "stdout",
     "output_type": "stream",
     "text": [
      "+--------+--------------------+\n",
      "|Item_MRP|           Item_Type|\n",
      "+--------+--------------------+\n",
      "|249.8092|               Dairy|\n",
      "| 48.2692|         Soft Drinks|\n",
      "| 141.618|                Meat|\n",
      "| 182.095|Fruits and Vegeta...|\n",
      "| 53.8614|           Household|\n",
      "| 51.4008|        Baking Goods|\n",
      "| 57.6588|         Snack Foods|\n",
      "|107.7622|         Snack Foods|\n",
      "| 96.9726|        Frozen Foods|\n",
      "|187.8214|        Frozen Foods|\n",
      "| 45.5402|Fruits and Vegeta...|\n",
      "|144.1102|               Dairy|\n",
      "|145.4786|Fruits and Vegeta...|\n",
      "|119.6782|         Snack Foods|\n",
      "|196.4426|Fruits and Vegeta...|\n",
      "| 56.3614|           Breakfast|\n",
      "|115.3492|  Health and Hygiene|\n",
      "| 54.3614|           Breakfast|\n",
      "|113.2834|         Hard Drinks|\n",
      "|230.5352|               Dairy|\n",
      "+--------+--------------------+\n",
      "only showing top 20 rows\n",
      "\n"
     ]
    }
   ],
   "source": [
    "df.select(['Item_MRP', 'Item_Type']).show()"
   ]
  },
  {
   "cell_type": "code",
   "execution_count": 24,
   "id": "79768555-efcb-4b17-a9df-d4e289417117",
   "metadata": {},
   "outputs": [
    {
     "data": {
      "text/plain": [
       "Column<'Item_Type'>"
      ]
     },
     "execution_count": 24,
     "metadata": {},
     "output_type": "execute_result"
    }
   ],
   "source": [
    "df['Item_Type']"
   ]
  },
  {
   "cell_type": "code",
   "execution_count": 25,
   "id": "6f356de1-6e22-498c-bf7d-488556be9ae4",
   "metadata": {},
   "outputs": [
    {
     "data": {
      "text/plain": [
       "[('Item_Identifier', 'string'),\n",
       " ('Item_Weight', 'double'),\n",
       " ('Item_Fat_Content', 'string'),\n",
       " ('Item_Visibility', 'double'),\n",
       " ('Item_Type', 'string'),\n",
       " ('Item_MRP', 'double'),\n",
       " ('Outlet_Identifier', 'string'),\n",
       " ('Outlet_Establishment_Year', 'int'),\n",
       " ('Outlet_Size', 'string'),\n",
       " ('Outlet_Location_Type', 'string'),\n",
       " ('Outlet_Type', 'string'),\n",
       " ('Item_Outlet_Sales', 'double')]"
      ]
     },
     "execution_count": 25,
     "metadata": {},
     "output_type": "execute_result"
    }
   ],
   "source": [
    "df.dtypes"
   ]
  },
  {
   "cell_type": "code",
   "execution_count": 27,
   "id": "4840eb09-dd2a-46f1-806c-ca5143616d27",
   "metadata": {},
   "outputs": [
    {
     "name": "stderr",
     "output_type": "stream",
     "text": [
      "25/01/15 09:25:44 WARN SparkStringUtils: Truncated the string representation of a plan since it was too large. This behavior can be adjusted by setting 'spark.sql.debug.maxToStringFields'.\n",
      "[Stage 16:>                                                         (0 + 1) / 1]"
     ]
    },
    {
     "name": "stdout",
     "output_type": "stream",
     "text": [
      "+-------+---------------+------------------+----------------+-------------------+-------------+-----------------+-----------------+-------------------------+-----------+--------------------+-----------------+------------------+\n",
      "|summary|Item_Identifier|       Item_Weight|Item_Fat_Content|    Item_Visibility|    Item_Type|         Item_MRP|Outlet_Identifier|Outlet_Establishment_Year|Outlet_Size|Outlet_Location_Type|      Outlet_Type| Item_Outlet_Sales|\n",
      "+-------+---------------+------------------+----------------+-------------------+-------------+-----------------+-----------------+-------------------------+-----------+--------------------+-----------------+------------------+\n",
      "|  count|           8523|              7060|            8523|               8523|         8523|             8523|             8523|                     8523|       6113|                8523|             8523|              8523|\n",
      "|   mean|           NULL|12.857645184136183|            NULL|0.06613202877895127|         NULL|140.9927819781768|             NULL|       1997.8318667135984|       NULL|                NULL|             NULL|2181.2889135750365|\n",
      "| stddev|           NULL| 4.643456499186414|            NULL|0.05159782232113514|         NULL|62.27506651219047|             NULL|        8.371760408092667|       NULL|                NULL|             NULL|1706.4996157338403|\n",
      "|    min|          DRA12|             4.555|              LF|                0.0| Baking Goods|            31.29|           OUT010|                     1985|       High|              Tier 1|    Grocery Store|             33.29|\n",
      "|    max|          NCZ54|             21.35|             reg|        0.328390948|Starchy Foods|         266.8884|           OUT049|                     2009|      Small|              Tier 3|Supermarket Type3|        13086.9648|\n",
      "+-------+---------------+------------------+----------------+-------------------+-------------+-----------------+-----------------+-------------------------+-----------+--------------------+-----------------+------------------+\n",
      "\n"
     ]
    },
    {
     "name": "stderr",
     "output_type": "stream",
     "text": [
      "                                                                                "
     ]
    }
   ],
   "source": [
    "df.describe().show()"
   ]
  },
  {
   "cell_type": "markdown",
   "id": "b69eec02-7762-4cdd-be5a-edb3e92acf84",
   "metadata": {},
   "source": [
    "# withColumn\n",
    "\n",
    "for adding, DROPPING and updating cols "
   ]
  },
  {
   "cell_type": "code",
   "execution_count": 29,
   "id": "251aff6f-bcf8-42f4-b9f7-b5e3dfb10a56",
   "metadata": {},
   "outputs": [],
   "source": [
    "from pyspark.sql.functions import *"
   ]
  },
  {
   "cell_type": "code",
   "execution_count": 32,
   "id": "fac8ab4c-4ea7-4861-908a-3aa71d3d2f1b",
   "metadata": {},
   "outputs": [],
   "source": [
    "df = df.withColumn('flag', when(df['Item_MRP']>100, 'expensive').otherwise('cheap'))"
   ]
  },
  {
   "cell_type": "code",
   "execution_count": 33,
   "id": "ebd52b2f-3411-4b28-88f2-aaa3bbe1efc6",
   "metadata": {},
   "outputs": [
    {
     "name": "stdout",
     "output_type": "stream",
     "text": [
      "+---------------+-----------+----------------+---------------+-----------+--------+-----------------+-------------------------+-----------+--------------------+-----------------+-----------------+---------+\n",
      "|Item_Identifier|Item_Weight|Item_Fat_Content|Item_Visibility|  Item_Type|Item_MRP|Outlet_Identifier|Outlet_Establishment_Year|Outlet_Size|Outlet_Location_Type|      Outlet_Type|Item_Outlet_Sales|     flag|\n",
      "+---------------+-----------+----------------+---------------+-----------+--------+-----------------+-------------------------+-----------+--------------------+-----------------+-----------------+---------+\n",
      "|          FDA15|        9.3|         Low Fat|    0.016047301|      Dairy|249.8092|           OUT049|                     1999|     Medium|              Tier 1|Supermarket Type1|         3735.138|expensive|\n",
      "|          DRC01|       5.92|         Regular|    0.019278216|Soft Drinks| 48.2692|           OUT018|                     2009|     Medium|              Tier 3|Supermarket Type2|         443.4228|    cheap|\n",
      "+---------------+-----------+----------------+---------------+-----------+--------+-----------------+-------------------------+-----------+--------------------+-----------------+-----------------+---------+\n",
      "only showing top 2 rows\n",
      "\n"
     ]
    }
   ],
   "source": [
    "df.show(2)"
   ]
  },
  {
   "cell_type": "code",
   "execution_count": 35,
   "id": "cff15420-184e-4147-8e92-af8318402421",
   "metadata": {},
   "outputs": [],
   "source": [
    "df = df.drop('flag')\n"
   ]
  },
  {
   "cell_type": "code",
   "execution_count": 36,
   "id": "63bd2389-8c7e-4944-b699-c93b8e277fbe",
   "metadata": {},
   "outputs": [
    {
     "name": "stdout",
     "output_type": "stream",
     "text": [
      "+---------------+-----------+----------------+---------------+-----------+--------+-----------------+-------------------------+-----------+--------------------+-----------------+-----------------+\n",
      "|Item_Identifier|Item_Weight|Item_Fat_Content|Item_Visibility|  Item_Type|Item_MRP|Outlet_Identifier|Outlet_Establishment_Year|Outlet_Size|Outlet_Location_Type|      Outlet_Type|Item_Outlet_Sales|\n",
      "+---------------+-----------+----------------+---------------+-----------+--------+-----------------+-------------------------+-----------+--------------------+-----------------+-----------------+\n",
      "|          FDA15|        9.3|         Low Fat|    0.016047301|      Dairy|249.8092|           OUT049|                     1999|     Medium|              Tier 1|Supermarket Type1|         3735.138|\n",
      "|          DRC01|       5.92|         Regular|    0.019278216|Soft Drinks| 48.2692|           OUT018|                     2009|     Medium|              Tier 3|Supermarket Type2|         443.4228|\n",
      "+---------------+-----------+----------------+---------------+-----------+--------+-----------------+-------------------------+-----------+--------------------+-----------------+-----------------+\n",
      "only showing top 2 rows\n",
      "\n"
     ]
    }
   ],
   "source": [
    "df.show(2)"
   ]
  },
  {
   "cell_type": "code",
   "execution_count": 38,
   "id": "b4dd5951-8e71-4ec4-999d-f978181c2792",
   "metadata": {},
   "outputs": [
    {
     "name": "stdout",
     "output_type": "stream",
     "text": [
      "+---------------+-------+----------------+---------------+--------------------+--------+-----------------+-------------------------+-----------+--------------------+-----------------+-----------------+\n",
      "|Item_Identifier|Item_Wt|Item_Fat_Content|Item_Visibility|           Item_Type|Item_MRP|Outlet_Identifier|Outlet_Establishment_Year|Outlet_Size|Outlet_Location_Type|      Outlet_Type|Item_Outlet_Sales|\n",
      "+---------------+-------+----------------+---------------+--------------------+--------+-----------------+-------------------------+-----------+--------------------+-----------------+-----------------+\n",
      "|          FDA15|    9.3|         Low Fat|    0.016047301|               Dairy|249.8092|           OUT049|                     1999|     Medium|              Tier 1|Supermarket Type1|         3735.138|\n",
      "|          DRC01|   5.92|         Regular|    0.019278216|         Soft Drinks| 48.2692|           OUT018|                     2009|     Medium|              Tier 3|Supermarket Type2|         443.4228|\n",
      "|          FDN15|   17.5|         Low Fat|    0.016760075|                Meat| 141.618|           OUT049|                     1999|     Medium|              Tier 1|Supermarket Type1|          2097.27|\n",
      "|          FDX07|   19.2|         Regular|            0.0|Fruits and Vegeta...| 182.095|           OUT010|                     1998|       NULL|              Tier 3|    Grocery Store|           732.38|\n",
      "|          NCD19|   8.93|         Low Fat|            0.0|           Household| 53.8614|           OUT013|                     1987|       High|              Tier 3|Supermarket Type1|         994.7052|\n",
      "|          FDP36| 10.395|         Regular|            0.0|        Baking Goods| 51.4008|           OUT018|                     2009|     Medium|              Tier 3|Supermarket Type2|         556.6088|\n",
      "|          FDO10|  13.65|         Regular|    0.012741089|         Snack Foods| 57.6588|           OUT013|                     1987|       High|              Tier 3|Supermarket Type1|         343.5528|\n",
      "|          FDP10|   NULL|         Low Fat|    0.127469857|         Snack Foods|107.7622|           OUT027|                     1985|     Medium|              Tier 3|Supermarket Type3|        4022.7636|\n",
      "|          FDH17|   16.2|         Regular|    0.016687114|        Frozen Foods| 96.9726|           OUT045|                     2002|       NULL|              Tier 2|Supermarket Type1|        1076.5986|\n",
      "|          FDU28|   19.2|         Regular|     0.09444959|        Frozen Foods|187.8214|           OUT017|                     2007|       NULL|              Tier 2|Supermarket Type1|         4710.535|\n",
      "|          FDY07|   11.8|         Low Fat|            0.0|Fruits and Vegeta...| 45.5402|           OUT049|                     1999|     Medium|              Tier 1|Supermarket Type1|        1516.0266|\n",
      "|          FDA03|   18.5|         Regular|    0.045463773|               Dairy|144.1102|           OUT046|                     1997|      Small|              Tier 1|Supermarket Type1|         2187.153|\n",
      "|          FDX32|   15.1|         Regular|      0.1000135|Fruits and Vegeta...|145.4786|           OUT049|                     1999|     Medium|              Tier 1|Supermarket Type1|        1589.2646|\n",
      "|          FDS46|   17.6|         Regular|    0.047257328|         Snack Foods|119.6782|           OUT046|                     1997|      Small|              Tier 1|Supermarket Type1|        2145.2076|\n",
      "|          FDF32|  16.35|         Low Fat|      0.0680243|Fruits and Vegeta...|196.4426|           OUT013|                     1987|       High|              Tier 3|Supermarket Type1|         1977.426|\n",
      "|          FDP49|    9.0|         Regular|    0.069088961|           Breakfast| 56.3614|           OUT046|                     1997|      Small|              Tier 1|Supermarket Type1|        1547.3192|\n",
      "|          NCB42|   11.8|         Low Fat|    0.008596051|  Health and Hygiene|115.3492|           OUT018|                     2009|     Medium|              Tier 3|Supermarket Type2|        1621.8888|\n",
      "|          FDP49|    9.0|         Regular|    0.069196376|           Breakfast| 54.3614|           OUT049|                     1999|     Medium|              Tier 1|Supermarket Type1|         718.3982|\n",
      "|          DRI11|   NULL|         Low Fat|    0.034237682|         Hard Drinks|113.2834|           OUT027|                     1985|     Medium|              Tier 3|Supermarket Type3|         2303.668|\n",
      "|          FDU02|  13.35|         Low Fat|     0.10249212|               Dairy|230.5352|           OUT035|                     2004|      Small|              Tier 2|Supermarket Type1|        2748.4224|\n",
      "+---------------+-------+----------------+---------------+--------------------+--------+-----------------+-------------------------+-----------+--------------------+-----------------+-----------------+\n",
      "only showing top 20 rows\n",
      "\n"
     ]
    }
   ],
   "source": [
    "df.withColumnRenamed('Item_weight','Item_Wt').show()"
   ]
  },
  {
   "cell_type": "markdown",
   "id": "a633f1cd-70c8-48a5-aa8a-68f8d0659399",
   "metadata": {},
   "source": [
    "# Handling missing values "
   ]
  },
  {
   "cell_type": "code",
   "execution_count": 39,
   "id": "0f9cbea7-9b0f-431b-8b3e-8aba28e2ef1f",
   "metadata": {},
   "outputs": [
    {
     "name": "stdout",
     "output_type": "stream",
     "text": [
      "+---------------+-----------+----------------+---------------+--------------------+--------+-----------------+-------------------------+-----------+--------------------+-----------------+-----------------+\n",
      "|Item_Identifier|Item_Weight|Item_Fat_Content|Item_Visibility|           Item_Type|Item_MRP|Outlet_Identifier|Outlet_Establishment_Year|Outlet_Size|Outlet_Location_Type|      Outlet_Type|Item_Outlet_Sales|\n",
      "+---------------+-----------+----------------+---------------+--------------------+--------+-----------------+-------------------------+-----------+--------------------+-----------------+-----------------+\n",
      "|          FDA15|        9.3|         Low Fat|    0.016047301|               Dairy|249.8092|           OUT049|                     1999|     Medium|              Tier 1|Supermarket Type1|         3735.138|\n",
      "|          DRC01|       5.92|         Regular|    0.019278216|         Soft Drinks| 48.2692|           OUT018|                     2009|     Medium|              Tier 3|Supermarket Type2|         443.4228|\n",
      "|          FDN15|       17.5|         Low Fat|    0.016760075|                Meat| 141.618|           OUT049|                     1999|     Medium|              Tier 1|Supermarket Type1|          2097.27|\n",
      "|          FDX07|       19.2|         Regular|            0.0|Fruits and Vegeta...| 182.095|           OUT010|                     1998|       NULL|              Tier 3|    Grocery Store|           732.38|\n",
      "|          NCD19|       8.93|         Low Fat|            0.0|           Household| 53.8614|           OUT013|                     1987|       High|              Tier 3|Supermarket Type1|         994.7052|\n",
      "+---------------+-----------+----------------+---------------+--------------------+--------+-----------------+-------------------------+-----------+--------------------+-----------------+-----------------+\n",
      "only showing top 5 rows\n",
      "\n"
     ]
    }
   ],
   "source": [
    "df.show(5)"
   ]
  },
  {
   "cell_type": "markdown",
   "id": "561cd410-566e-4cea-a5d3-67a6bd518f81",
   "metadata": {},
   "source": [
    "dropping rows"
   ]
  },
  {
   "cell_type": "code",
   "execution_count": 45,
   "id": "76dd1833-827c-4f56-98ca-a82bfa31d7a0",
   "metadata": {},
   "outputs": [
    {
     "name": "stdout",
     "output_type": "stream",
     "text": [
      "+---------------+-----------+----------------+---------------+------------+--------+-----------------+-------------------------+-----------+--------------------+-----------------+-----------------+\n",
      "|Item_Identifier|Item_Weight|Item_Fat_Content|Item_Visibility|   Item_Type|Item_MRP|Outlet_Identifier|Outlet_Establishment_Year|Outlet_Size|Outlet_Location_Type|      Outlet_Type|Item_Outlet_Sales|\n",
      "+---------------+-----------+----------------+---------------+------------+--------+-----------------+-------------------------+-----------+--------------------+-----------------+-----------------+\n",
      "|          FDA15|        9.3|         Low Fat|    0.016047301|       Dairy|249.8092|           OUT049|                     1999|     Medium|              Tier 1|Supermarket Type1|         3735.138|\n",
      "|          DRC01|       5.92|         Regular|    0.019278216| Soft Drinks| 48.2692|           OUT018|                     2009|     Medium|              Tier 3|Supermarket Type2|         443.4228|\n",
      "|          FDN15|       17.5|         Low Fat|    0.016760075|        Meat| 141.618|           OUT049|                     1999|     Medium|              Tier 1|Supermarket Type1|          2097.27|\n",
      "|          NCD19|       8.93|         Low Fat|            0.0|   Household| 53.8614|           OUT013|                     1987|       High|              Tier 3|Supermarket Type1|         994.7052|\n",
      "|          FDP36|     10.395|         Regular|            0.0|Baking Goods| 51.4008|           OUT018|                     2009|     Medium|              Tier 3|Supermarket Type2|         556.6088|\n",
      "+---------------+-----------+----------------+---------------+------------+--------+-----------------+-------------------------+-----------+--------------------+-----------------+-----------------+\n",
      "only showing top 5 rows\n",
      "\n"
     ]
    }
   ],
   "source": [
    "#drops all the rows with Null values \n",
    "df.dropna().show(5)"
   ]
  },
  {
   "cell_type": "code",
   "execution_count": 44,
   "id": "83fea910-5fe2-4b8c-9ae6-77281093cd4f",
   "metadata": {},
   "outputs": [
    {
     "name": "stdout",
     "output_type": "stream",
     "text": [
      "+---------------+-----------+----------------+---------------+------------+--------+-----------------+-------------------------+-----------+--------------------+-----------------+-----------------+\n",
      "|Item_Identifier|Item_Weight|Item_Fat_Content|Item_Visibility|   Item_Type|Item_MRP|Outlet_Identifier|Outlet_Establishment_Year|Outlet_Size|Outlet_Location_Type|      Outlet_Type|Item_Outlet_Sales|\n",
      "+---------------+-----------+----------------+---------------+------------+--------+-----------------+-------------------------+-----------+--------------------+-----------------+-----------------+\n",
      "|          FDA15|        9.3|         Low Fat|    0.016047301|       Dairy|249.8092|           OUT049|                     1999|     Medium|              Tier 1|Supermarket Type1|         3735.138|\n",
      "|          DRC01|       5.92|         Regular|    0.019278216| Soft Drinks| 48.2692|           OUT018|                     2009|     Medium|              Tier 3|Supermarket Type2|         443.4228|\n",
      "|          FDN15|       17.5|         Low Fat|    0.016760075|        Meat| 141.618|           OUT049|                     1999|     Medium|              Tier 1|Supermarket Type1|          2097.27|\n",
      "|          NCD19|       8.93|         Low Fat|            0.0|   Household| 53.8614|           OUT013|                     1987|       High|              Tier 3|Supermarket Type1|         994.7052|\n",
      "|          FDP36|     10.395|         Regular|            0.0|Baking Goods| 51.4008|           OUT018|                     2009|     Medium|              Tier 3|Supermarket Type2|         556.6088|\n",
      "+---------------+-----------+----------------+---------------+------------+--------+-----------------+-------------------------+-----------+--------------------+-----------------+-----------------+\n",
      "only showing top 5 rows\n",
      "\n"
     ]
    }
   ],
   "source": [
    "df.na.drop().show(5)"
   ]
  },
  {
   "cell_type": "code",
   "execution_count": 48,
   "id": "3126dc99-c3d4-4cc7-80a6-7f00adf21539",
   "metadata": {},
   "outputs": [
    {
     "name": "stdout",
     "output_type": "stream",
     "text": [
      "+---------------+-----------+----------------+---------------+------------+--------+-----------------+-------------------------+-----------+--------------------+-----------------+-----------------+\n",
      "|Item_Identifier|Item_Weight|Item_Fat_Content|Item_Visibility|   Item_Type|Item_MRP|Outlet_Identifier|Outlet_Establishment_Year|Outlet_Size|Outlet_Location_Type|      Outlet_Type|Item_Outlet_Sales|\n",
      "+---------------+-----------+----------------+---------------+------------+--------+-----------------+-------------------------+-----------+--------------------+-----------------+-----------------+\n",
      "|          FDA15|        9.3|         Low Fat|    0.016047301|       Dairy|249.8092|           OUT049|                     1999|     Medium|              Tier 1|Supermarket Type1|         3735.138|\n",
      "|          DRC01|       5.92|         Regular|    0.019278216| Soft Drinks| 48.2692|           OUT018|                     2009|     Medium|              Tier 3|Supermarket Type2|         443.4228|\n",
      "|          FDN15|       17.5|         Low Fat|    0.016760075|        Meat| 141.618|           OUT049|                     1999|     Medium|              Tier 1|Supermarket Type1|          2097.27|\n",
      "|          NCD19|       8.93|         Low Fat|            0.0|   Household| 53.8614|           OUT013|                     1987|       High|              Tier 3|Supermarket Type1|         994.7052|\n",
      "|          FDP36|     10.395|         Regular|            0.0|Baking Goods| 51.4008|           OUT018|                     2009|     Medium|              Tier 3|Supermarket Type2|         556.6088|\n",
      "|          FDO10|      13.65|         Regular|    0.012741089| Snack Foods| 57.6588|           OUT013|                     1987|       High|              Tier 3|Supermarket Type1|         343.5528|\n",
      "+---------------+-----------+----------------+---------------+------------+--------+-----------------+-------------------------+-----------+--------------------+-----------------+-----------------+\n",
      "only showing top 6 rows\n",
      "\n",
      "+---------------+-----------+----------------+---------------+-----------+--------+-----------------+-------------------------+-----------+--------------------+-----------------+-----------------+\n",
      "|Item_Identifier|Item_Weight|Item_Fat_Content|Item_Visibility|  Item_Type|Item_MRP|Outlet_Identifier|Outlet_Establishment_Year|Outlet_Size|Outlet_Location_Type|      Outlet_Type|Item_Outlet_Sales|\n",
      "+---------------+-----------+----------------+---------------+-----------+--------+-----------------+-------------------------+-----------+--------------------+-----------------+-----------------+\n",
      "|          FDA15|        9.3|         Low Fat|    0.016047301|      Dairy|249.8092|           OUT049|                     1999|     Medium|              Tier 1|Supermarket Type1|         3735.138|\n",
      "|          DRC01|       5.92|         Regular|    0.019278216|Soft Drinks| 48.2692|           OUT018|                     2009|     Medium|              Tier 3|Supermarket Type2|         443.4228|\n",
      "+---------------+-----------+----------------+---------------+-----------+--------+-----------------+-------------------------+-----------+--------------------+-----------------+-----------------+\n",
      "only showing top 2 rows\n",
      "\n",
      "+---------------+-----------+----------------+---------------+--------------------+--------+-----------------+-------------------------+-----------+--------------------+-----------------+-----------------+\n",
      "|Item_Identifier|Item_Weight|Item_Fat_Content|Item_Visibility|           Item_Type|Item_MRP|Outlet_Identifier|Outlet_Establishment_Year|Outlet_Size|Outlet_Location_Type|      Outlet_Type|Item_Outlet_Sales|\n",
      "+---------------+-----------+----------------+---------------+--------------------+--------+-----------------+-------------------------+-----------+--------------------+-----------------+-----------------+\n",
      "|          FDA15|        9.3|         Low Fat|    0.016047301|               Dairy|249.8092|           OUT049|                     1999|     Medium|              Tier 1|Supermarket Type1|         3735.138|\n",
      "|          DRC01|       5.92|         Regular|    0.019278216|         Soft Drinks| 48.2692|           OUT018|                     2009|     Medium|              Tier 3|Supermarket Type2|         443.4228|\n",
      "|          FDN15|       17.5|         Low Fat|    0.016760075|                Meat| 141.618|           OUT049|                     1999|     Medium|              Tier 1|Supermarket Type1|          2097.27|\n",
      "|          FDX07|       19.2|         Regular|            0.0|Fruits and Vegeta...| 182.095|           OUT010|                     1998|       NULL|              Tier 3|    Grocery Store|           732.38|\n",
      "|          NCD19|       8.93|         Low Fat|            0.0|           Household| 53.8614|           OUT013|                     1987|       High|              Tier 3|Supermarket Type1|         994.7052|\n",
      "|          FDP36|     10.395|         Regular|            0.0|        Baking Goods| 51.4008|           OUT018|                     2009|     Medium|              Tier 3|Supermarket Type2|         556.6088|\n",
      "|          FDO10|      13.65|         Regular|    0.012741089|         Snack Foods| 57.6588|           OUT013|                     1987|       High|              Tier 3|Supermarket Type1|         343.5528|\n",
      "|          FDP10|       NULL|         Low Fat|    0.127469857|         Snack Foods|107.7622|           OUT027|                     1985|     Medium|              Tier 3|Supermarket Type3|        4022.7636|\n",
      "|          FDH17|       16.2|         Regular|    0.016687114|        Frozen Foods| 96.9726|           OUT045|                     2002|       NULL|              Tier 2|Supermarket Type1|        1076.5986|\n",
      "|          FDU28|       19.2|         Regular|     0.09444959|        Frozen Foods|187.8214|           OUT017|                     2007|       NULL|              Tier 2|Supermarket Type1|         4710.535|\n",
      "|          FDY07|       11.8|         Low Fat|            0.0|Fruits and Vegeta...| 45.5402|           OUT049|                     1999|     Medium|              Tier 1|Supermarket Type1|        1516.0266|\n",
      "|          FDA03|       18.5|         Regular|    0.045463773|               Dairy|144.1102|           OUT046|                     1997|      Small|              Tier 1|Supermarket Type1|         2187.153|\n",
      "|          FDX32|       15.1|         Regular|      0.1000135|Fruits and Vegeta...|145.4786|           OUT049|                     1999|     Medium|              Tier 1|Supermarket Type1|        1589.2646|\n",
      "|          FDS46|       17.6|         Regular|    0.047257328|         Snack Foods|119.6782|           OUT046|                     1997|      Small|              Tier 1|Supermarket Type1|        2145.2076|\n",
      "|          FDF32|      16.35|         Low Fat|      0.0680243|Fruits and Vegeta...|196.4426|           OUT013|                     1987|       High|              Tier 3|Supermarket Type1|         1977.426|\n",
      "|          FDP49|        9.0|         Regular|    0.069088961|           Breakfast| 56.3614|           OUT046|                     1997|      Small|              Tier 1|Supermarket Type1|        1547.3192|\n",
      "|          NCB42|       11.8|         Low Fat|    0.008596051|  Health and Hygiene|115.3492|           OUT018|                     2009|     Medium|              Tier 3|Supermarket Type2|        1621.8888|\n",
      "|          FDP49|        9.0|         Regular|    0.069196376|           Breakfast| 54.3614|           OUT049|                     1999|     Medium|              Tier 1|Supermarket Type1|         718.3982|\n",
      "|          DRI11|       NULL|         Low Fat|    0.034237682|         Hard Drinks|113.2834|           OUT027|                     1985|     Medium|              Tier 3|Supermarket Type3|         2303.668|\n",
      "|          FDU02|      13.35|         Low Fat|     0.10249212|               Dairy|230.5352|           OUT035|                     2004|      Small|              Tier 2|Supermarket Type1|        2748.4224|\n",
      "+---------------+-----------+----------------+---------------+--------------------+--------+-----------------+-------------------------+-----------+--------------------+-----------------+-----------------+\n",
      "only showing top 20 rows\n",
      "\n"
     ]
    }
   ],
   "source": [
    "df.dropna(how=\"any\").show(6) #drops any rows that contains at least one null\n",
    "df.na.drop(how=\"all\").show(2) # drops rows that has nulls in all cols\n",
    "df.dropna(how=\"any\", thresh=2).show() #keeps null containing rows till threshold "
   ]
  },
  {
   "cell_type": "code",
   "execution_count": 49,
   "id": "4a6c65de-9c38-46ed-8908-03e98baeaa4b",
   "metadata": {},
   "outputs": [
    {
     "name": "stdout",
     "output_type": "stream",
     "text": [
      "+---------------+-----------+----------------+---------------+--------------------+--------+-----------------+-------------------------+-----------+--------------------+-----------------+-----------------+\n",
      "|Item_Identifier|Item_Weight|Item_Fat_Content|Item_Visibility|           Item_Type|Item_MRP|Outlet_Identifier|Outlet_Establishment_Year|Outlet_Size|Outlet_Location_Type|      Outlet_Type|Item_Outlet_Sales|\n",
      "+---------------+-----------+----------------+---------------+--------------------+--------+-----------------+-------------------------+-----------+--------------------+-----------------+-----------------+\n",
      "|          FDA15|        9.3|         Low Fat|    0.016047301|               Dairy|249.8092|           OUT049|                     1999|     Medium|              Tier 1|Supermarket Type1|         3735.138|\n",
      "|          DRC01|       5.92|         Regular|    0.019278216|         Soft Drinks| 48.2692|           OUT018|                     2009|     Medium|              Tier 3|Supermarket Type2|         443.4228|\n",
      "|          FDN15|       17.5|         Low Fat|    0.016760075|                Meat| 141.618|           OUT049|                     1999|     Medium|              Tier 1|Supermarket Type1|          2097.27|\n",
      "|          NCD19|       8.93|         Low Fat|            0.0|           Household| 53.8614|           OUT013|                     1987|       High|              Tier 3|Supermarket Type1|         994.7052|\n",
      "|          FDP36|     10.395|         Regular|            0.0|        Baking Goods| 51.4008|           OUT018|                     2009|     Medium|              Tier 3|Supermarket Type2|         556.6088|\n",
      "|          FDO10|      13.65|         Regular|    0.012741089|         Snack Foods| 57.6588|           OUT013|                     1987|       High|              Tier 3|Supermarket Type1|         343.5528|\n",
      "|          FDP10|       NULL|         Low Fat|    0.127469857|         Snack Foods|107.7622|           OUT027|                     1985|     Medium|              Tier 3|Supermarket Type3|        4022.7636|\n",
      "|          FDY07|       11.8|         Low Fat|            0.0|Fruits and Vegeta...| 45.5402|           OUT049|                     1999|     Medium|              Tier 1|Supermarket Type1|        1516.0266|\n",
      "|          FDA03|       18.5|         Regular|    0.045463773|               Dairy|144.1102|           OUT046|                     1997|      Small|              Tier 1|Supermarket Type1|         2187.153|\n",
      "|          FDX32|       15.1|         Regular|      0.1000135|Fruits and Vegeta...|145.4786|           OUT049|                     1999|     Medium|              Tier 1|Supermarket Type1|        1589.2646|\n",
      "|          FDS46|       17.6|         Regular|    0.047257328|         Snack Foods|119.6782|           OUT046|                     1997|      Small|              Tier 1|Supermarket Type1|        2145.2076|\n",
      "|          FDF32|      16.35|         Low Fat|      0.0680243|Fruits and Vegeta...|196.4426|           OUT013|                     1987|       High|              Tier 3|Supermarket Type1|         1977.426|\n",
      "|          FDP49|        9.0|         Regular|    0.069088961|           Breakfast| 56.3614|           OUT046|                     1997|      Small|              Tier 1|Supermarket Type1|        1547.3192|\n",
      "|          NCB42|       11.8|         Low Fat|    0.008596051|  Health and Hygiene|115.3492|           OUT018|                     2009|     Medium|              Tier 3|Supermarket Type2|        1621.8888|\n",
      "|          FDP49|        9.0|         Regular|    0.069196376|           Breakfast| 54.3614|           OUT049|                     1999|     Medium|              Tier 1|Supermarket Type1|         718.3982|\n",
      "|          DRI11|       NULL|         Low Fat|    0.034237682|         Hard Drinks|113.2834|           OUT027|                     1985|     Medium|              Tier 3|Supermarket Type3|         2303.668|\n",
      "|          FDU02|      13.35|         Low Fat|     0.10249212|               Dairy|230.5352|           OUT035|                     2004|      Small|              Tier 2|Supermarket Type1|        2748.4224|\n",
      "|          FDN22|      18.85|         Regular|    0.138190277|         Snack Foods|250.8724|           OUT013|                     1987|       High|              Tier 3|Supermarket Type1|         3775.086|\n",
      "|          FDW12|       NULL|         Regular|    0.035399923|        Baking Goods|144.5444|           OUT027|                     1985|     Medium|              Tier 3|Supermarket Type3|        4064.0432|\n",
      "|          NCB30|       14.6|         Low Fat|    0.025698134|           Household|196.5084|           OUT035|                     2004|      Small|              Tier 2|Supermarket Type1|        1587.2672|\n",
      "+---------------+-----------+----------------+---------------+--------------------+--------+-----------------+-------------------------+-----------+--------------------+-----------------+-----------------+\n",
      "only showing top 20 rows\n",
      "\n"
     ]
    }
   ],
   "source": [
    "df.dropna(how=\"any\", subset=['Outlet_Size']).show()"
   ]
  },
  {
   "cell_type": "markdown",
   "id": "854582eb-54b3-40a9-9a92-f058fe155975",
   "metadata": {},
   "source": [
    "filling nulls\n"
   ]
  },
  {
   "cell_type": "code",
   "execution_count": 56,
   "id": "3cc8e3af-e77f-418e-99a3-ba235044143d",
   "metadata": {},
   "outputs": [],
   "source": [
    "df_new = df"
   ]
  },
  {
   "cell_type": "code",
   "execution_count": 57,
   "id": "8b5c694a-4f6f-4d87-bd76-d419ebe761c3",
   "metadata": {},
   "outputs": [
    {
     "name": "stdout",
     "output_type": "stream",
     "text": [
      "+---------------+-----------+----------------+---------------+---------+--------+-----------------+-------------------------+-----------+--------------------+-----------------+-----------------+\n",
      "|Item_Identifier|Item_Weight|Item_Fat_Content|Item_Visibility|Item_Type|Item_MRP|Outlet_Identifier|Outlet_Establishment_Year|Outlet_Size|Outlet_Location_Type|      Outlet_Type|Item_Outlet_Sales|\n",
      "+---------------+-----------+----------------+---------------+---------+--------+-----------------+-------------------------+-----------+--------------------+-----------------+-----------------+\n",
      "|          FDA15|        9.3|         Low Fat|    0.016047301|    Dairy|249.8092|           OUT049|                     1999|     Medium|              Tier 1|Supermarket Type1|         3735.138|\n",
      "+---------------+-----------+----------------+---------------+---------+--------+-----------------+-------------------------+-----------+--------------------+-----------------+-----------------+\n",
      "only showing top 1 row\n",
      "\n"
     ]
    }
   ],
   "source": [
    "df_new.show(1)"
   ]
  },
  {
   "cell_type": "code",
   "execution_count": 51,
   "id": "69b31a8d-97f7-4055-bfc0-4f9157ec9543",
   "metadata": {},
   "outputs": [
    {
     "name": "stdout",
     "output_type": "stream",
     "text": [
      "+---------------+-----------+----------------+---------------+--------------------+--------+-----------------+-------------------------+-----------+--------------------+-----------------+-----------------+\n",
      "|Item_Identifier|Item_Weight|Item_Fat_Content|Item_Visibility|           Item_Type|Item_MRP|Outlet_Identifier|Outlet_Establishment_Year|Outlet_Size|Outlet_Location_Type|      Outlet_Type|Item_Outlet_Sales|\n",
      "+---------------+-----------+----------------+---------------+--------------------+--------+-----------------+-------------------------+-----------+--------------------+-----------------+-----------------+\n",
      "|          FDA15|        9.3|         Low Fat|    0.016047301|               Dairy|249.8092|           OUT049|                     1999|     Medium|              Tier 1|Supermarket Type1|         3735.138|\n",
      "|          DRC01|       5.92|         Regular|    0.019278216|         Soft Drinks| 48.2692|           OUT018|                     2009|     Medium|              Tier 3|Supermarket Type2|         443.4228|\n",
      "|          FDN15|       17.5|         Low Fat|    0.016760075|                Meat| 141.618|           OUT049|                     1999|     Medium|              Tier 1|Supermarket Type1|          2097.27|\n",
      "|          FDX07|       19.2|         Regular|            0.0|Fruits and Vegeta...| 182.095|           OUT010|                     1998|         na|              Tier 3|    Grocery Store|           732.38|\n",
      "|          NCD19|       8.93|         Low Fat|            0.0|           Household| 53.8614|           OUT013|                     1987|       High|              Tier 3|Supermarket Type1|         994.7052|\n",
      "|          FDP36|     10.395|         Regular|            0.0|        Baking Goods| 51.4008|           OUT018|                     2009|     Medium|              Tier 3|Supermarket Type2|         556.6088|\n",
      "|          FDO10|      13.65|         Regular|    0.012741089|         Snack Foods| 57.6588|           OUT013|                     1987|       High|              Tier 3|Supermarket Type1|         343.5528|\n",
      "|          FDP10|       NULL|         Low Fat|    0.127469857|         Snack Foods|107.7622|           OUT027|                     1985|     Medium|              Tier 3|Supermarket Type3|        4022.7636|\n",
      "|          FDH17|       16.2|         Regular|    0.016687114|        Frozen Foods| 96.9726|           OUT045|                     2002|         na|              Tier 2|Supermarket Type1|        1076.5986|\n",
      "|          FDU28|       19.2|         Regular|     0.09444959|        Frozen Foods|187.8214|           OUT017|                     2007|         na|              Tier 2|Supermarket Type1|         4710.535|\n",
      "|          FDY07|       11.8|         Low Fat|            0.0|Fruits and Vegeta...| 45.5402|           OUT049|                     1999|     Medium|              Tier 1|Supermarket Type1|        1516.0266|\n",
      "|          FDA03|       18.5|         Regular|    0.045463773|               Dairy|144.1102|           OUT046|                     1997|      Small|              Tier 1|Supermarket Type1|         2187.153|\n",
      "|          FDX32|       15.1|         Regular|      0.1000135|Fruits and Vegeta...|145.4786|           OUT049|                     1999|     Medium|              Tier 1|Supermarket Type1|        1589.2646|\n",
      "|          FDS46|       17.6|         Regular|    0.047257328|         Snack Foods|119.6782|           OUT046|                     1997|      Small|              Tier 1|Supermarket Type1|        2145.2076|\n",
      "|          FDF32|      16.35|         Low Fat|      0.0680243|Fruits and Vegeta...|196.4426|           OUT013|                     1987|       High|              Tier 3|Supermarket Type1|         1977.426|\n",
      "|          FDP49|        9.0|         Regular|    0.069088961|           Breakfast| 56.3614|           OUT046|                     1997|      Small|              Tier 1|Supermarket Type1|        1547.3192|\n",
      "|          NCB42|       11.8|         Low Fat|    0.008596051|  Health and Hygiene|115.3492|           OUT018|                     2009|     Medium|              Tier 3|Supermarket Type2|        1621.8888|\n",
      "|          FDP49|        9.0|         Regular|    0.069196376|           Breakfast| 54.3614|           OUT049|                     1999|     Medium|              Tier 1|Supermarket Type1|         718.3982|\n",
      "|          DRI11|       NULL|         Low Fat|    0.034237682|         Hard Drinks|113.2834|           OUT027|                     1985|     Medium|              Tier 3|Supermarket Type3|         2303.668|\n",
      "|          FDU02|      13.35|         Low Fat|     0.10249212|               Dairy|230.5352|           OUT035|                     2004|      Small|              Tier 2|Supermarket Type1|        2748.4224|\n",
      "+---------------+-----------+----------------+---------------+--------------------+--------+-----------------+-------------------------+-----------+--------------------+-----------------+-----------------+\n",
      "only showing top 20 rows\n",
      "\n"
     ]
    }
   ],
   "source": [
    "df.fillna('na','Outlet_Size').show() # can also send parameters "
   ]
  },
  {
   "cell_type": "code",
   "execution_count": 63,
   "id": "f1dc5f78-02f9-485a-b67a-27f8824ca323",
   "metadata": {},
   "outputs": [],
   "source": [
    "df = df.drop('Outlet_Identifier','Item_Identifier','Item_Visibility','Outlet_Establishment_Year','Outlet_Location_Type')"
   ]
  },
  {
   "cell_type": "code",
   "execution_count": 64,
   "id": "7586ba88-64fb-44ff-be7c-f827a013059d",
   "metadata": {},
   "outputs": [
    {
     "name": "stdout",
     "output_type": "stream",
     "text": [
      "+-----------+----------------+--------------------+--------+-----------+-----------------+-----------------+\n",
      "|Item_Weight|Item_Fat_Content|           Item_Type|Item_MRP|Outlet_Size|      Outlet_Type|Item_Outlet_Sales|\n",
      "+-----------+----------------+--------------------+--------+-----------+-----------------+-----------------+\n",
      "|        9.3|         Low Fat|               Dairy|249.8092|     Medium|Supermarket Type1|         3735.138|\n",
      "|       5.92|         Regular|         Soft Drinks| 48.2692|     Medium|Supermarket Type2|         443.4228|\n",
      "|       17.5|         Low Fat|                Meat| 141.618|     Medium|Supermarket Type1|          2097.27|\n",
      "|       19.2|         Regular|Fruits and Vegeta...| 182.095|       NULL|    Grocery Store|           732.38|\n",
      "|       8.93|         Low Fat|           Household| 53.8614|       High|Supermarket Type1|         994.7052|\n",
      "+-----------+----------------+--------------------+--------+-----------+-----------------+-----------------+\n",
      "only showing top 5 rows\n",
      "\n"
     ]
    }
   ],
   "source": [
    "df.show(5)"
   ]
  },
  {
   "cell_type": "code",
   "execution_count": 69,
   "id": "a3304133-6c1b-4d40-ad06-167494e2df68",
   "metadata": {},
   "outputs": [
    {
     "name": "stdout",
     "output_type": "stream",
     "text": [
      "+-----------------+\n",
      "|      Outlet_Type|\n",
      "+-----------------+\n",
      "|Supermarket Type3|\n",
      "|    Grocery Store|\n",
      "|Supermarket Type2|\n",
      "|Supermarket Type1|\n",
      "+-----------------+\n",
      "\n"
     ]
    }
   ],
   "source": [
    "df.select('Outlet_Type').distinct().show()"
   ]
  },
  {
   "cell_type": "code",
   "execution_count": 78,
   "id": "5d79b4c5-caaa-405f-8b5b-b7c441623da2",
   "metadata": {},
   "outputs": [],
   "source": [
    "df = df.withColumn('flag',when((df['Outlet_Type']==\"Supermarket Type1\") | (df['Item_MRP']>100), 4))"
   ]
  },
  {
   "cell_type": "code",
   "execution_count": 79,
   "id": "055b0933-231c-47cc-a8b7-2dee009df6c4",
   "metadata": {},
   "outputs": [
    {
     "name": "stdout",
     "output_type": "stream",
     "text": [
      "+-----------+----------------+--------------------+--------+-----------+-----------------+-----------------+----+\n",
      "|Item_Weight|Item_Fat_Content|           Item_Type|Item_MRP|Outlet_Size|      Outlet_Type|Item_Outlet_Sales|flag|\n",
      "+-----------+----------------+--------------------+--------+-----------+-----------------+-----------------+----+\n",
      "|        9.3|         Low Fat|               Dairy|249.8092|     Medium|Supermarket Type1|         3735.138|   4|\n",
      "|       5.92|         Regular|         Soft Drinks| 48.2692|     Medium|Supermarket Type2|         443.4228|NULL|\n",
      "|       17.5|         Low Fat|                Meat| 141.618|     Medium|Supermarket Type1|          2097.27|   4|\n",
      "|       19.2|         Regular|Fruits and Vegeta...| 182.095|       NULL|    Grocery Store|           732.38|   4|\n",
      "|       8.93|         Low Fat|           Household| 53.8614|       High|Supermarket Type1|         994.7052|   4|\n",
      "+-----------+----------------+--------------------+--------+-----------+-----------------+-----------------+----+\n",
      "only showing top 5 rows\n",
      "\n"
     ]
    }
   ],
   "source": [
    "df.show(5)"
   ]
  },
  {
   "cell_type": "code",
   "execution_count": 83,
   "id": "2321e813-67bf-4ec5-a939-2f5cd82e46ba",
   "metadata": {},
   "outputs": [
    {
     "name": "stdout",
     "output_type": "stream",
     "text": [
      "root\n",
      " |-- Item_Weight: double (nullable = true)\n",
      " |-- Item_Fat_Content: string (nullable = true)\n",
      " |-- Item_Type: string (nullable = true)\n",
      " |-- Item_MRP: double (nullable = true)\n",
      " |-- Outlet_Size: string (nullable = true)\n",
      " |-- Outlet_Type: string (nullable = true)\n",
      " |-- Item_Outlet_Sales: double (nullable = true)\n",
      " |-- flag: integer (nullable = true)\n",
      "\n"
     ]
    }
   ],
   "source": [
    "df.printSchema()"
   ]
  },
  {
   "cell_type": "code",
   "execution_count": 86,
   "id": "7ef04cde-35a0-40cd-8ed0-4ed4d20e598a",
   "metadata": {},
   "outputs": [],
   "source": [
    "\n",
    "from pyspark.ml.feature import Imputer\n",
    "\n",
    "imputer = Imputer(\n",
    "    inputCols=[ 'flag'], \n",
    "    outputCols=[\"flag_imputed\"]\n",
    "    ).setStrategy(\"median\")"
   ]
  },
  {
   "cell_type": "code",
   "execution_count": 87,
   "id": "9754e7f3-a463-4667-9170-c72f825a1a14",
   "metadata": {},
   "outputs": [
    {
     "name": "stdout",
     "output_type": "stream",
     "text": [
      "+-----------+----------------+--------------------+--------+-----------+-----------------+-----------------+----+------------+\n",
      "|Item_Weight|Item_Fat_Content|           Item_Type|Item_MRP|Outlet_Size|      Outlet_Type|Item_Outlet_Sales|flag|flag_imputed|\n",
      "+-----------+----------------+--------------------+--------+-----------+-----------------+-----------------+----+------------+\n",
      "|        9.3|         Low Fat|               Dairy|249.8092|     Medium|Supermarket Type1|         3735.138|   4|           4|\n",
      "|       5.92|         Regular|         Soft Drinks| 48.2692|     Medium|Supermarket Type2|         443.4228|NULL|           4|\n",
      "|       17.5|         Low Fat|                Meat| 141.618|     Medium|Supermarket Type1|          2097.27|   4|           4|\n",
      "|       19.2|         Regular|Fruits and Vegeta...| 182.095|       NULL|    Grocery Store|           732.38|   4|           4|\n",
      "|       8.93|         Low Fat|           Household| 53.8614|       High|Supermarket Type1|         994.7052|   4|           4|\n",
      "|     10.395|         Regular|        Baking Goods| 51.4008|     Medium|Supermarket Type2|         556.6088|NULL|           4|\n",
      "|      13.65|         Regular|         Snack Foods| 57.6588|       High|Supermarket Type1|         343.5528|   4|           4|\n",
      "|       NULL|         Low Fat|         Snack Foods|107.7622|     Medium|Supermarket Type3|        4022.7636|   4|           4|\n",
      "|       16.2|         Regular|        Frozen Foods| 96.9726|       NULL|Supermarket Type1|        1076.5986|   4|           4|\n",
      "|       19.2|         Regular|        Frozen Foods|187.8214|       NULL|Supermarket Type1|         4710.535|   4|           4|\n",
      "|       11.8|         Low Fat|Fruits and Vegeta...| 45.5402|     Medium|Supermarket Type1|        1516.0266|   4|           4|\n",
      "|       18.5|         Regular|               Dairy|144.1102|      Small|Supermarket Type1|         2187.153|   4|           4|\n",
      "|       15.1|         Regular|Fruits and Vegeta...|145.4786|     Medium|Supermarket Type1|        1589.2646|   4|           4|\n",
      "|       17.6|         Regular|         Snack Foods|119.6782|      Small|Supermarket Type1|        2145.2076|   4|           4|\n",
      "|      16.35|         Low Fat|Fruits and Vegeta...|196.4426|       High|Supermarket Type1|         1977.426|   4|           4|\n",
      "|        9.0|         Regular|           Breakfast| 56.3614|      Small|Supermarket Type1|        1547.3192|   4|           4|\n",
      "|       11.8|         Low Fat|  Health and Hygiene|115.3492|     Medium|Supermarket Type2|        1621.8888|   4|           4|\n",
      "|        9.0|         Regular|           Breakfast| 54.3614|     Medium|Supermarket Type1|         718.3982|   4|           4|\n",
      "|       NULL|         Low Fat|         Hard Drinks|113.2834|     Medium|Supermarket Type3|         2303.668|   4|           4|\n",
      "|      13.35|         Low Fat|               Dairy|230.5352|      Small|Supermarket Type1|        2748.4224|   4|           4|\n",
      "+-----------+----------------+--------------------+--------+-----------+-----------------+-----------------+----+------------+\n",
      "only showing top 20 rows\n",
      "\n"
     ]
    }
   ],
   "source": [
    "imputer.fit(df).transform(df).show()"
   ]
  },
  {
   "cell_type": "code",
   "execution_count": 88,
   "id": "4de5ec5d-7f2f-4f54-bb80-62508ee48af5",
   "metadata": {},
   "outputs": [
    {
     "name": "stdout",
     "output_type": "stream",
     "text": [
      "+-----------+----------------+---------+--------+-----------+-----------------+-----------------+----+\n",
      "|Item_Weight|Item_Fat_Content|Item_Type|Item_MRP|Outlet_Size|      Outlet_Type|Item_Outlet_Sales|flag|\n",
      "+-----------+----------------+---------+--------+-----------+-----------------+-----------------+----+\n",
      "|        9.3|         Low Fat|    Dairy|249.8092|     Medium|Supermarket Type1|         3735.138|   4|\n",
      "+-----------+----------------+---------+--------+-----------+-----------------+-----------------+----+\n",
      "only showing top 1 row\n",
      "\n"
     ]
    }
   ],
   "source": [
    "df.show(1)"
   ]
  },
  {
   "cell_type": "code",
   "execution_count": 90,
   "id": "f81d821f-85a6-4ab2-ad2a-9b58445febde",
   "metadata": {},
   "outputs": [],
   "source": [
    "df = df.drop('flag')"
   ]
  },
  {
   "cell_type": "markdown",
   "id": "ae71d173-05b6-4c14-b8da-a78454e06783",
   "metadata": {},
   "source": [
    "# Filter"
   ]
  },
  {
   "cell_type": "code",
   "execution_count": 91,
   "id": "8cea324e-175b-4a6b-a086-f03bfc9c3cf4",
   "metadata": {},
   "outputs": [
    {
     "name": "stdout",
     "output_type": "stream",
     "text": [
      "+-----------+----------------+--------------------+--------+-----------+-----------------+-----------------+\n",
      "|Item_Weight|Item_Fat_Content|           Item_Type|Item_MRP|Outlet_Size|      Outlet_Type|Item_Outlet_Sales|\n",
      "+-----------+----------------+--------------------+--------+-----------+-----------------+-----------------+\n",
      "|        9.3|         Low Fat|               Dairy|249.8092|     Medium|Supermarket Type1|         3735.138|\n",
      "|       17.5|         Low Fat|                Meat| 141.618|     Medium|Supermarket Type1|          2097.27|\n",
      "|       19.2|         Regular|Fruits and Vegeta...| 182.095|       NULL|    Grocery Store|           732.38|\n",
      "|       NULL|         Low Fat|         Snack Foods|107.7622|     Medium|Supermarket Type3|        4022.7636|\n",
      "|       19.2|         Regular|        Frozen Foods|187.8214|       NULL|Supermarket Type1|         4710.535|\n",
      "|       18.5|         Regular|               Dairy|144.1102|      Small|Supermarket Type1|         2187.153|\n",
      "|       15.1|         Regular|Fruits and Vegeta...|145.4786|     Medium|Supermarket Type1|        1589.2646|\n",
      "|       17.6|         Regular|         Snack Foods|119.6782|      Small|Supermarket Type1|        2145.2076|\n",
      "|      16.35|         Low Fat|Fruits and Vegeta...|196.4426|       High|Supermarket Type1|         1977.426|\n",
      "|       11.8|         Low Fat|  Health and Hygiene|115.3492|     Medium|Supermarket Type2|        1621.8888|\n",
      "|       NULL|         Low Fat|         Hard Drinks|113.2834|     Medium|Supermarket Type3|         2303.668|\n",
      "|      13.35|         Low Fat|               Dairy|230.5352|      Small|Supermarket Type1|        2748.4224|\n",
      "|      18.85|         Regular|         Snack Foods|250.8724|       High|Supermarket Type1|         3775.086|\n",
      "|       NULL|         Regular|        Baking Goods|144.5444|     Medium|Supermarket Type3|        4064.0432|\n",
      "|       14.6|         Low Fat|           Household|196.5084|      Small|Supermarket Type1|        1587.2672|\n",
      "|       NULL|         Low Fat|        Baking Goods|107.6938|      Small|    Grocery Store|         214.3876|\n",
      "|      13.85|         Regular|        Frozen Foods| 165.021|      Small|Supermarket Type1|         4078.025|\n",
      "|       18.7|         Low Fat|         Snack Foods|256.6672|     Medium|Supermarket Type2|        3068.0064|\n",
      "|       17.5|         Low Fat|         Soft Drinks|174.8738|      Small|Supermarket Type1|        2085.2856|\n",
      "|       10.0|         Low Fat|  Health and Hygiene|146.7102|     Medium|Supermarket Type1|        3791.0652|\n",
      "+-----------+----------------+--------------------+--------+-----------+-----------------+-----------------+\n",
      "only showing top 20 rows\n",
      "\n"
     ]
    }
   ],
   "source": [
    "df.filter(\"Item_MRP>100\").show()"
   ]
  },
  {
   "cell_type": "code",
   "execution_count": 92,
   "id": "b139474a-3101-4b66-a815-dfffefb20bfc",
   "metadata": {},
   "outputs": [
    {
     "name": "stdout",
     "output_type": "stream",
     "text": [
      "+--------------------+-----------+\n",
      "|           Item_Type|Outlet_Size|\n",
      "+--------------------+-----------+\n",
      "|               Dairy|     Medium|\n",
      "|                Meat|     Medium|\n",
      "|Fruits and Vegeta...|       NULL|\n",
      "|         Snack Foods|     Medium|\n",
      "|        Frozen Foods|       NULL|\n",
      "|               Dairy|      Small|\n",
      "|Fruits and Vegeta...|     Medium|\n",
      "|         Snack Foods|      Small|\n",
      "|Fruits and Vegeta...|       High|\n",
      "|  Health and Hygiene|     Medium|\n",
      "|         Hard Drinks|     Medium|\n",
      "|               Dairy|      Small|\n",
      "|         Snack Foods|       High|\n",
      "|        Baking Goods|     Medium|\n",
      "|           Household|      Small|\n",
      "|        Baking Goods|      Small|\n",
      "|        Frozen Foods|      Small|\n",
      "|         Snack Foods|     Medium|\n",
      "|         Soft Drinks|      Small|\n",
      "|  Health and Hygiene|     Medium|\n",
      "+--------------------+-----------+\n",
      "only showing top 20 rows\n",
      "\n"
     ]
    }
   ],
   "source": [
    "df.filter(\"Item_MRP>100\").select(['Item_Type','Outlet_Size']).show()"
   ]
  },
  {
   "cell_type": "code",
   "execution_count": 93,
   "id": "141d41bb-37d1-49f3-ab30-a12f81878f91",
   "metadata": {},
   "outputs": [
    {
     "name": "stdout",
     "output_type": "stream",
     "text": [
      "+--------------------+-----------+\n",
      "|           Item_Type|Outlet_Size|\n",
      "+--------------------+-----------+\n",
      "|               Dairy|     Medium|\n",
      "|                Meat|     Medium|\n",
      "|Fruits and Vegeta...|       NULL|\n",
      "|         Snack Foods|     Medium|\n",
      "|        Frozen Foods|       NULL|\n",
      "|               Dairy|      Small|\n",
      "|Fruits and Vegeta...|     Medium|\n",
      "|         Snack Foods|      Small|\n",
      "|Fruits and Vegeta...|       High|\n",
      "|  Health and Hygiene|     Medium|\n",
      "|         Hard Drinks|     Medium|\n",
      "|               Dairy|      Small|\n",
      "|         Snack Foods|       High|\n",
      "|        Baking Goods|     Medium|\n",
      "|           Household|      Small|\n",
      "|        Baking Goods|      Small|\n",
      "|        Frozen Foods|      Small|\n",
      "|         Snack Foods|     Medium|\n",
      "|         Soft Drinks|      Small|\n",
      "|  Health and Hygiene|     Medium|\n",
      "+--------------------+-----------+\n",
      "only showing top 20 rows\n",
      "\n"
     ]
    }
   ],
   "source": [
    "df.filter(df[\"Item_MRP\"]>100).select(['Item_Type','Outlet_Size']).show()"
   ]
  },
  {
   "cell_type": "code",
   "execution_count": 95,
   "id": "cb25d0e6-13dc-4175-b3b5-3b89e397df1b",
   "metadata": {},
   "outputs": [
    {
     "name": "stdout",
     "output_type": "stream",
     "text": [
      "+-----------+----------------+--------------------+--------+-----------+-----------------+-----------------+\n",
      "|Item_Weight|Item_Fat_Content|           Item_Type|Item_MRP|Outlet_Size|      Outlet_Type|Item_Outlet_Sales|\n",
      "+-----------+----------------+--------------------+--------+-----------+-----------------+-----------------+\n",
      "|       18.5|         Regular|               Dairy|144.1102|      Small|Supermarket Type1|         2187.153|\n",
      "|       17.6|         Regular|         Snack Foods|119.6782|      Small|Supermarket Type1|        2145.2076|\n",
      "|      13.35|         Low Fat|               Dairy|230.5352|      Small|Supermarket Type1|        2748.4224|\n",
      "|       14.6|         Low Fat|           Household|196.5084|      Small|Supermarket Type1|        1587.2672|\n",
      "|       NULL|         Low Fat|        Baking Goods|107.6938|      Small|    Grocery Store|         214.3876|\n",
      "|      13.85|         Regular|        Frozen Foods| 165.021|      Small|Supermarket Type1|         4078.025|\n",
      "|       17.5|         Low Fat|         Soft Drinks|174.8738|      Small|Supermarket Type1|        2085.2856|\n",
      "|      13.35|         Low Fat|               Dairy|230.6352|      Small|Supermarket Type1|         3435.528|\n",
      "|       NULL|         Regular|               Dairy|196.8794|      Small|    Grocery Store|         780.3176|\n",
      "|       7.39|         Low Fat|  Health and Hygiene|143.8812|      Small|Supermarket Type1|        3134.5864|\n",
      "|       15.1|         Low Fat|         Snack Foods| 194.511|      Small|Supermarket Type1|         4910.275|\n",
      "|       NULL|         Low Fat|              Canned|180.0344|      Small|    Grocery Store|          892.172|\n",
      "|      19.35|         Low Fat|                Meat|172.5738|      Small|Supermarket Type1|        4865.6664|\n",
      "|       15.6|         Regular|         Snack Foods|170.1764|      Small|Supermarket Type1|         3435.528|\n",
      "|       8.39|         Regular|        Frozen Foods|114.0176|      Small|Supermarket Type1|         2290.352|\n",
      "|       7.76|         Low Fat|         Snack Foods|  101.87|      Small|Supermarket Type1|          1697.79|\n",
      "|       11.8|             reg|        Frozen Foods|180.3344|      Small|Supermarket Type1|        1427.4752|\n",
      "|       NULL|         Low Fat|           Household|194.6136|      Small|    Grocery Store|         583.2408|\n",
      "|      6.055|         Low Fat|Fruits and Vegeta...| 160.992|      Small|Supermarket Type1|         2716.464|\n",
      "|        9.8|         Low Fat|  Health and Hygiene|114.5492|      Small|Supermarket Type1|        1274.3412|\n",
      "+-----------+----------------+--------------------+--------+-----------+-----------------+-----------------+\n",
      "only showing top 20 rows\n",
      "\n"
     ]
    }
   ],
   "source": [
    "df.filter((df[\"Item_MRP\"]>100) & (df['Outlet_Size']==\"Small\")).show()\n"
   ]
  },
  {
   "cell_type": "code",
   "execution_count": 97,
   "id": "6e1920c8-071f-4014-aff6-2abee0ce139f",
   "metadata": {},
   "outputs": [
    {
     "name": "stdout",
     "output_type": "stream",
     "text": [
      "+--------------------+-----------+\n",
      "|           Item_Type|Outlet_Size|\n",
      "+--------------------+-----------+\n",
      "|         Soft Drinks|     Medium|\n",
      "|           Household|       High|\n",
      "|        Baking Goods|     Medium|\n",
      "|         Snack Foods|       High|\n",
      "|        Frozen Foods|       NULL|\n",
      "|Fruits and Vegeta...|     Medium|\n",
      "|           Breakfast|      Small|\n",
      "|           Breakfast|     Medium|\n",
      "|           Household|       NULL|\n",
      "|         Snack Foods|      Small|\n",
      "|         Hard Drinks|       High|\n",
      "|               Dairy|       NULL|\n",
      "|              Canned|      Small|\n",
      "|               Dairy|       NULL|\n",
      "|  Health and Hygiene|     Medium|\n",
      "|              Breads|       NULL|\n",
      "|         Snack Foods|     Medium|\n",
      "|         Snack Foods|     Medium|\n",
      "|        Baking Goods|      Small|\n",
      "|         Hard Drinks|     Medium|\n",
      "+--------------------+-----------+\n",
      "only showing top 20 rows\n",
      "\n"
     ]
    }
   ],
   "source": [
    "df.filter(~(df[\"Item_MRP\"]>100)).select(['Item_Type','Outlet_Size']).show()\n"
   ]
  },
  {
   "cell_type": "markdown",
   "id": "03de632d-3184-4e93-87bf-20ce039b9b91",
   "metadata": {},
   "source": [
    "## GroupBy and Aggregation"
   ]
  },
  {
   "cell_type": "code",
   "execution_count": 103,
   "id": "8c590de6-706b-44c3-8fb2-9e3cdd8fe10b",
   "metadata": {},
   "outputs": [
    {
     "name": "stdout",
     "output_type": "stream",
     "text": [
      "+--------------------+------------------+\n",
      "|           Item_Type|     sum(Item_MRP)|\n",
      "+--------------------+------------------+\n",
      "|       Starchy Foods|21880.027399999995|\n",
      "|        Baking Goods| 81894.73640000001|\n",
      "|              Breads| 35379.11979999999|\n",
      "|Fruits and Vegeta...|178124.08099999998|\n",
      "|                Meat|59449.863799999956|\n",
      "|         Hard Drinks|29334.676599999995|\n",
      "|         Soft Drinks|58514.164999999964|\n",
      "|           Household|135976.52539999998|\n",
      "|           Breakfast|        15596.6966|\n",
      "|               Dairy|101276.45959999996|\n",
      "|         Snack Foods|175433.92040000003|\n",
      "|              Others|22451.891600000006|\n",
      "|             Seafood| 9077.870000000003|\n",
      "|              Canned|  90706.7269999999|\n",
      "|        Frozen Foods|118558.88140000001|\n",
      "|  Health and Hygiene|        68025.8388|\n",
      "+--------------------+------------------+\n",
      "\n"
     ]
    }
   ],
   "source": [
    "df.groupBy('Item_Type').sum('Item_MRP').show()"
   ]
  },
  {
   "cell_type": "code",
   "execution_count": 104,
   "id": "b2be6daf-4706-4c5b-b8d8-dd90cb4f4fab",
   "metadata": {},
   "outputs": [
    {
     "name": "stdout",
     "output_type": "stream",
     "text": [
      "+--------------------+------------------+------------------+----------------------+\n",
      "|           Item_Type|  sum(Item_Weight)|     sum(Item_MRP)|sum(Item_Outlet_Sales)|\n",
      "+--------------------+------------------+------------------+----------------------+\n",
      "|       Starchy Foods|1779.7949999999994|21880.027399999995|     351401.2504000002|\n",
      "|        Baking Goods| 6580.530000000017| 81894.73640000001|          1265525.3422|\n",
      "|              Breads| 2314.774999999999| 35379.11979999999|     553237.1887999995|\n",
      "|Fruits and Vegeta...|13476.040000000072|178124.08099999998|    2820059.8168000015|\n",
      "|                Meat| 4319.445000000003|59449.863799999956|     917565.6119999996|\n",
      "|         Hard Drinks| 2086.259999999999|29334.676599999995|    457793.42719999974|\n",
      "|         Soft Drinks|           4430.95|58514.164999999964|     892897.7219999991|\n",
      "|           Household|10159.015000000043|135976.52539999998|    2055493.7131999983|\n",
      "|           Breakfast|1136.3699999999992|        15596.6966|    232298.95160000006|\n",
      "|               Dairy| 7599.155000000017|101276.45959999996|    1522594.0511999999|\n",
      "|         Snack Foods|12832.025000000049|175433.92040000003|     2732786.087000002|\n",
      "|              Others|1897.8999999999994|22451.891600000006|           325517.6096|\n",
      "|             Seafood| 640.1949999999999| 9077.870000000003|    148868.21940000003|\n",
      "|              Canned| 6632.775000000007|  90706.7269999999|    1444151.4925999993|\n",
      "|        Frozen Foods| 9238.550000000021|118558.88140000001|    1825734.7885999978|\n",
      "|  Health and Hygiene| 5651.195000000009|        68025.8388|    1045200.1378000001|\n",
      "+--------------------+------------------+------------------+----------------------+\n",
      "\n"
     ]
    }
   ],
   "source": [
    "df.groupBy('Item_Type').sum().show()"
   ]
  },
  {
   "cell_type": "code",
   "execution_count": 105,
   "id": "c63a944a-76f6-4f85-b21d-ed6dca02bd0f",
   "metadata": {},
   "outputs": [
    {
     "name": "stdout",
     "output_type": "stream",
     "text": [
      "+--------------------+------------------+------------------+----------------------+\n",
      "|           Item_Type|  avg(Item_Weight)|     avg(Item_MRP)|avg(Item_Outlet_Sales)|\n",
      "+--------------------+------------------+------------------+----------------------+\n",
      "|       Starchy Foods|13.690730769230765|147.83802297297294|    2374.3327729729745|\n",
      "|        Baking Goods|12.277108208955255|126.38076604938273|    1952.9712070987655|\n",
      "|              Breads|  11.3469362745098| 140.9526685258964|     2204.132226294819|\n",
      "|Fruits and Vegeta...|13.224769381746881|144.58123457792206|     2289.009591558443|\n",
      "|                Meat| 12.81734421364986|139.88203247058814|    2158.9779105882344|\n",
      "|         Hard Drinks|11.400327868852452|137.07792803738315|    2139.2216224299054|\n",
      "|         Soft Drinks|11.847459893048129|131.49250561797746|    2006.5117348314586|\n",
      "|           Household|13.384736495388726|149.42475318681318|    2258.7843002197783|\n",
      "|           Breakfast|12.768202247191002|141.78815090909092|    2111.8086509090913|\n",
      "|               Dairy| 13.42606890459367|148.49920762463336|    2232.5425970674487|\n",
      "|         Snack Foods|12.987879554655919|146.19493366666669|    2277.3217391666685|\n",
      "|              Others|13.853284671532842|132.85142958579885|     1926.139701775148|\n",
      "|             Seafood|  12.5528431372549|141.84171875000004|    2326.0659281250005|\n",
      "|              Canned|12.305705009276451|139.76383204930647|     2225.194903852079|\n",
      "|        Frozen Foods|12.867061281337076|138.50336612149533|    2132.8677436915864|\n",
      "|  Health and Hygiene|13.142313953488392|130.81892076923077|    2010.0002650000004|\n",
      "+--------------------+------------------+------------------+----------------------+\n",
      "\n"
     ]
    }
   ],
   "source": [
    "df.groupBy('Item_Type').mean().show()"
   ]
  },
  {
   "cell_type": "code",
   "execution_count": 106,
   "id": "a3b8393f-65ed-4f36-8b08-27ad89ee3b5c",
   "metadata": {},
   "outputs": [
    {
     "name": "stdout",
     "output_type": "stream",
     "text": [
      "+--------------------+-----+\n",
      "|           Item_Type|count|\n",
      "+--------------------+-----+\n",
      "|       Starchy Foods|  148|\n",
      "|        Baking Goods|  648|\n",
      "|              Breads|  251|\n",
      "|Fruits and Vegeta...| 1232|\n",
      "|                Meat|  425|\n",
      "|         Hard Drinks|  214|\n",
      "|         Soft Drinks|  445|\n",
      "|           Household|  910|\n",
      "|           Breakfast|  110|\n",
      "|               Dairy|  682|\n",
      "|         Snack Foods| 1200|\n",
      "|              Others|  169|\n",
      "|             Seafood|   64|\n",
      "|              Canned|  649|\n",
      "|        Frozen Foods|  856|\n",
      "|  Health and Hygiene|  520|\n",
      "+--------------------+-----+\n",
      "\n"
     ]
    }
   ],
   "source": [
    "df.groupBy('Item_Type').count().show()"
   ]
  },
  {
   "cell_type": "code",
   "execution_count": 107,
   "id": "046319c8-a770-4e43-bc20-a8ae93a0a24a",
   "metadata": {},
   "outputs": [
    {
     "name": "stdout",
     "output_type": "stream",
     "text": [
      "+------------------+\n",
      "|     sum(Item_MRP)|\n",
      "+------------------+\n",
      "|1201681.4808000007|\n",
      "+------------------+\n",
      "\n"
     ]
    }
   ],
   "source": [
    "df.agg({'Item_MRP':'sum'}).show()"
   ]
  },
  {
   "cell_type": "code",
   "execution_count": null,
   "id": "b9cb4c21-218b-46af-89c5-189d546cd35f",
   "metadata": {},
   "outputs": [],
   "source": []
  }
 ],
 "metadata": {
  "kernelspec": {
   "display_name": "Python 3 (ipykernel)",
   "language": "python",
   "name": "python3"
  },
  "language_info": {
   "codemirror_mode": {
    "name": "ipython",
    "version": 3
   },
   "file_extension": ".py",
   "mimetype": "text/x-python",
   "name": "python",
   "nbconvert_exporter": "python",
   "pygments_lexer": "ipython3",
   "version": "3.12.3"
  }
 },
 "nbformat": 4,
 "nbformat_minor": 5
}
